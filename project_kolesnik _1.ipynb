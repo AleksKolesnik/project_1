{
 "cells": [
  {
   "cell_type": "markdown",
   "metadata": {},
   "source": [
    "## Проект 1\n",
    "\n",
    "## Я работаю в компании, которая разрабатывает мобильные игры. Ко мне обратился менеджер с рядом задач по исследованию нашего мобильного приложения.\n",
    "\n",
    "## Мне необходимо выполнить следующее:\n",
    "\n",
    "### 1) Проанализировать показатель Retention. В первую очередь менеджер интересуется именно этим показателем. Мне нужно написать функцию для его точного подсчета.\n",
    "\n",
    "### 2) Оценить результаты A/B теста. Наша компания провела A/B тестирование различных наборов акционных предложений. На основе имеющихся данных мне требуется определить, какой набор можно считать лучшим. Нужно решить, на основе каких метрик мы примем правильное решение, и обосновать свой выбор.\n",
    "\n",
    "### 3) Предложить метрики для оценки события. Мне нужно предложить ключевые метрики для оценки результатов последнего тематического события, которое прошло в нашей игре."
   ]
  },
  {
   "cell_type": "code",
   "execution_count": 92,
   "metadata": {},
   "outputs": [],
   "source": [
    "import pandas as pd\n",
    "import numpy as np\n",
    "import matplotlib.pyplot as plt \n",
    "import seaborn as sns\n",
    "%matplotlib inline\n",
    "# импортируем необходимые библиотеки"
   ]
  },
  {
   "cell_type": "markdown",
   "metadata": {},
   "source": [
    "# Задание 1. \n",
    "## Retention – один из самых важных показателей в компании. Необходимо его проанализировать, написать функцию, которая будет считать retention игроков (по дням от даты регистрации игрока). "
   ]
  },
  {
   "cell_type": "markdown",
   "metadata": {},
   "source": [
    "## Шаг 1 - подготавливаем данные."
   ]
  },
  {
   "cell_type": "code",
   "execution_count": 93,
   "metadata": {},
   "outputs": [],
   "source": [
    "df_activ = pd.read_csv('problem1-auth_data.csv',sep=';')\n",
    "# считываем данные о активности пользователей"
   ]
  },
  {
   "cell_type": "code",
   "execution_count": 94,
   "metadata": {},
   "outputs": [],
   "source": [
    "df_reg = pd.read_csv('problem1-reg_data.csv', sep=';')\n",
    "# считываем данные о регистрации пользователей"
   ]
  },
  {
   "cell_type": "code",
   "execution_count": 95,
   "metadata": {},
   "outputs": [
    {
     "data": {
      "text/html": [
       "<div>\n",
       "<style scoped>\n",
       "    .dataframe tbody tr th:only-of-type {\n",
       "        vertical-align: middle;\n",
       "    }\n",
       "\n",
       "    .dataframe tbody tr th {\n",
       "        vertical-align: top;\n",
       "    }\n",
       "\n",
       "    .dataframe thead th {\n",
       "        text-align: right;\n",
       "    }\n",
       "</style>\n",
       "<table border=\"1\" class=\"dataframe\">\n",
       "  <thead>\n",
       "    <tr style=\"text-align: right;\">\n",
       "      <th></th>\n",
       "      <th>auth_ts</th>\n",
       "      <th>uid</th>\n",
       "    </tr>\n",
       "  </thead>\n",
       "  <tbody>\n",
       "    <tr>\n",
       "      <th>0</th>\n",
       "      <td>911382223</td>\n",
       "      <td>1.0</td>\n",
       "    </tr>\n",
       "    <tr>\n",
       "      <th>1</th>\n",
       "      <td>932683089</td>\n",
       "      <td>2.0</td>\n",
       "    </tr>\n",
       "  </tbody>\n",
       "</table>\n",
       "</div>"
      ],
      "text/plain": [
       "     auth_ts  uid\n",
       "0  911382223  1.0\n",
       "1  932683089  2.0"
      ]
     },
     "execution_count": 95,
     "metadata": {},
     "output_type": "execute_result"
    }
   ],
   "source": [
    "df_activ.head(2)"
   ]
  },
  {
   "cell_type": "code",
   "execution_count": 96,
   "metadata": {},
   "outputs": [
    {
     "data": {
      "text/html": [
       "<div>\n",
       "<style scoped>\n",
       "    .dataframe tbody tr th:only-of-type {\n",
       "        vertical-align: middle;\n",
       "    }\n",
       "\n",
       "    .dataframe tbody tr th {\n",
       "        vertical-align: top;\n",
       "    }\n",
       "\n",
       "    .dataframe thead th {\n",
       "        text-align: right;\n",
       "    }\n",
       "</style>\n",
       "<table border=\"1\" class=\"dataframe\">\n",
       "  <thead>\n",
       "    <tr style=\"text-align: right;\">\n",
       "      <th></th>\n",
       "      <th>reg_ts</th>\n",
       "      <th>uid</th>\n",
       "    </tr>\n",
       "  </thead>\n",
       "  <tbody>\n",
       "    <tr>\n",
       "      <th>0</th>\n",
       "      <td>911382223</td>\n",
       "      <td>1</td>\n",
       "    </tr>\n",
       "    <tr>\n",
       "      <th>1</th>\n",
       "      <td>932683089</td>\n",
       "      <td>2</td>\n",
       "    </tr>\n",
       "  </tbody>\n",
       "</table>\n",
       "</div>"
      ],
      "text/plain": [
       "      reg_ts  uid\n",
       "0  911382223    1\n",
       "1  932683089    2"
      ]
     },
     "execution_count": 96,
     "metadata": {},
     "output_type": "execute_result"
    }
   ],
   "source": [
    "df_reg.head(2)"
   ]
  },
  {
   "cell_type": "code",
   "execution_count": 97,
   "metadata": {},
   "outputs": [
    {
     "data": {
      "text/plain": [
       "(5262974, 2)"
      ]
     },
     "execution_count": 97,
     "metadata": {},
     "output_type": "execute_result"
    }
   ],
   "source": [
    "df_activ.shape\n",
    "# смотрим на размер датафрейма"
   ]
  },
  {
   "cell_type": "code",
   "execution_count": 98,
   "metadata": {},
   "outputs": [
    {
     "data": {
      "text/plain": [
       "(1000000, 2)"
      ]
     },
     "execution_count": 98,
     "metadata": {},
     "output_type": "execute_result"
    }
   ],
   "source": [
    "df_reg.shape\n",
    "# # смотрим на размер датафрейма"
   ]
  },
  {
   "cell_type": "code",
   "execution_count": 99,
   "metadata": {},
   "outputs": [
    {
     "data": {
      "text/plain": [
       "auth_ts      int64\n",
       "uid        float64\n",
       "dtype: object"
      ]
     },
     "execution_count": 99,
     "metadata": {},
     "output_type": "execute_result"
    }
   ],
   "source": [
    "df_activ.dtypes\n",
    "# смотрим на формат данных"
   ]
  },
  {
   "cell_type": "code",
   "execution_count": 100,
   "metadata": {},
   "outputs": [
    {
     "data": {
      "text/plain": [
       "reg_ts    int64\n",
       "uid       int64\n",
       "dtype: object"
      ]
     },
     "execution_count": 100,
     "metadata": {},
     "output_type": "execute_result"
    }
   ],
   "source": [
    "df_reg.dtypes\n",
    "# смотрим на формат данных"
   ]
  },
  {
   "cell_type": "code",
   "execution_count": 101,
   "metadata": {},
   "outputs": [
    {
     "data": {
      "text/plain": [
       "auth_ts    0\n",
       "uid        1\n",
       "dtype: int64"
      ]
     },
     "execution_count": 101,
     "metadata": {},
     "output_type": "execute_result"
    }
   ],
   "source": [
    "df_activ.isna().sum()\n",
    "# проверяем наличие пропущенных значений"
   ]
  },
  {
   "cell_type": "code",
   "execution_count": 102,
   "metadata": {},
   "outputs": [],
   "source": [
    "df_activ = df_activ.dropna()\n",
    "#  удаляем строки с пропущенными значениями"
   ]
  },
  {
   "cell_type": "code",
   "execution_count": 103,
   "metadata": {},
   "outputs": [
    {
     "data": {
      "text/plain": [
       "auth_ts    0\n",
       "uid        0\n",
       "dtype: int64"
      ]
     },
     "execution_count": 103,
     "metadata": {},
     "output_type": "execute_result"
    }
   ],
   "source": [
    "df_activ.isna().sum()\n",
    "#  првоеряем, все ок\n"
   ]
  },
  {
   "cell_type": "code",
   "execution_count": 104,
   "metadata": {},
   "outputs": [],
   "source": [
    "df_activ['uid'] = df_activ['uid'].astype(int)\n",
    "# переводим колонку в целочисленный формат\n"
   ]
  },
  {
   "cell_type": "code",
   "execution_count": 105,
   "metadata": {},
   "outputs": [
    {
     "data": {
      "text/html": [
       "<div>\n",
       "<style scoped>\n",
       "    .dataframe tbody tr th:only-of-type {\n",
       "        vertical-align: middle;\n",
       "    }\n",
       "\n",
       "    .dataframe tbody tr th {\n",
       "        vertical-align: top;\n",
       "    }\n",
       "\n",
       "    .dataframe thead th {\n",
       "        text-align: right;\n",
       "    }\n",
       "</style>\n",
       "<table border=\"1\" class=\"dataframe\">\n",
       "  <thead>\n",
       "    <tr style=\"text-align: right;\">\n",
       "      <th></th>\n",
       "      <th>auth_ts</th>\n",
       "      <th>uid</th>\n",
       "    </tr>\n",
       "  </thead>\n",
       "  <tbody>\n",
       "    <tr>\n",
       "      <th>0</th>\n",
       "      <td>911382223</td>\n",
       "      <td>1</td>\n",
       "    </tr>\n",
       "    <tr>\n",
       "      <th>1</th>\n",
       "      <td>932683089</td>\n",
       "      <td>2</td>\n",
       "    </tr>\n",
       "  </tbody>\n",
       "</table>\n",
       "</div>"
      ],
      "text/plain": [
       "     auth_ts  uid\n",
       "0  911382223    1\n",
       "1  932683089    2"
      ]
     },
     "execution_count": 105,
     "metadata": {},
     "output_type": "execute_result"
    }
   ],
   "source": [
    "df_activ.head(2)"
   ]
  },
  {
   "cell_type": "code",
   "execution_count": 106,
   "metadata": {},
   "outputs": [
    {
     "data": {
      "text/plain": [
       "reg_ts    0\n",
       "uid       0\n",
       "dtype: int64"
      ]
     },
     "execution_count": 106,
     "metadata": {},
     "output_type": "execute_result"
    }
   ],
   "source": [
    "df_reg.isna().sum()\n",
    "# проверяем наличие пропущенных значений , в этом дата фрейме их нет, отлично."
   ]
  },
  {
   "cell_type": "code",
   "execution_count": 107,
   "metadata": {},
   "outputs": [
    {
     "data": {
      "text/plain": [
       "1000000"
      ]
     },
     "execution_count": 107,
     "metadata": {},
     "output_type": "execute_result"
    }
   ],
   "source": [
    "df_reg.uid.nunique()\n",
    "# смотрим на количество уникальных пользователей, которые зарегестрировались"
   ]
  },
  {
   "cell_type": "code",
   "execution_count": 108,
   "metadata": {},
   "outputs": [
    {
     "data": {
      "text/plain": [
       "549280"
      ]
     },
     "execution_count": 108,
     "metadata": {},
     "output_type": "execute_result"
    }
   ],
   "source": [
    "df_activ.uid.nunique()\n",
    "# смотрим на количество уникальных пользователей, которые были активны"
   ]
  },
  {
   "cell_type": "code",
   "execution_count": 109,
   "metadata": {},
   "outputs": [],
   "source": [
    "df_activ['auth_ts'] = pd.to_datetime(df_activ['auth_ts'], unit = 's')\n",
    "df_activ = df_activ.rename(columns ={'auth_ts': 'date_activity'})\n",
    "#  переводим колонку с секундами в формат даты и далее сразу переименовываем ее"
   ]
  },
  {
   "cell_type": "code",
   "execution_count": 110,
   "metadata": {},
   "outputs": [
    {
     "data": {
      "text/html": [
       "<div>\n",
       "<style scoped>\n",
       "    .dataframe tbody tr th:only-of-type {\n",
       "        vertical-align: middle;\n",
       "    }\n",
       "\n",
       "    .dataframe tbody tr th {\n",
       "        vertical-align: top;\n",
       "    }\n",
       "\n",
       "    .dataframe thead th {\n",
       "        text-align: right;\n",
       "    }\n",
       "</style>\n",
       "<table border=\"1\" class=\"dataframe\">\n",
       "  <thead>\n",
       "    <tr style=\"text-align: right;\">\n",
       "      <th></th>\n",
       "      <th>date_activity</th>\n",
       "      <th>uid</th>\n",
       "    </tr>\n",
       "  </thead>\n",
       "  <tbody>\n",
       "    <tr>\n",
       "      <th>0</th>\n",
       "      <td>1998-11-18 09:43:43</td>\n",
       "      <td>1</td>\n",
       "    </tr>\n",
       "    <tr>\n",
       "      <th>1</th>\n",
       "      <td>1999-07-22 22:38:09</td>\n",
       "      <td>2</td>\n",
       "    </tr>\n",
       "    <tr>\n",
       "      <th>2</th>\n",
       "      <td>1999-07-25 16:46:46</td>\n",
       "      <td>2</td>\n",
       "    </tr>\n",
       "    <tr>\n",
       "      <th>3</th>\n",
       "      <td>1999-07-31 03:50:15</td>\n",
       "      <td>2</td>\n",
       "    </tr>\n",
       "    <tr>\n",
       "      <th>4</th>\n",
       "      <td>1999-08-05 17:49:39</td>\n",
       "      <td>2</td>\n",
       "    </tr>\n",
       "  </tbody>\n",
       "</table>\n",
       "</div>"
      ],
      "text/plain": [
       "        date_activity  uid\n",
       "0 1998-11-18 09:43:43    1\n",
       "1 1999-07-22 22:38:09    2\n",
       "2 1999-07-25 16:46:46    2\n",
       "3 1999-07-31 03:50:15    2\n",
       "4 1999-08-05 17:49:39    2"
      ]
     },
     "execution_count": 110,
     "metadata": {},
     "output_type": "execute_result"
    }
   ],
   "source": [
    "df_activ.head()"
   ]
  },
  {
   "cell_type": "code",
   "execution_count": 111,
   "metadata": {},
   "outputs": [],
   "source": [
    "df_reg['reg_ts'] = pd.to_datetime(df_reg['reg_ts'], unit = 's')\n",
    "df_reg = df_reg.rename(columns ={'reg_ts': 'date_registr'})\n",
    "# также переводим колонку с секундами в даты и сразу переименовываем"
   ]
  },
  {
   "cell_type": "code",
   "execution_count": 43,
   "metadata": {},
   "outputs": [
    {
     "data": {
      "text/html": [
       "<div>\n",
       "<style scoped>\n",
       "    .dataframe tbody tr th:only-of-type {\n",
       "        vertical-align: middle;\n",
       "    }\n",
       "\n",
       "    .dataframe tbody tr th {\n",
       "        vertical-align: top;\n",
       "    }\n",
       "\n",
       "    .dataframe thead th {\n",
       "        text-align: right;\n",
       "    }\n",
       "</style>\n",
       "<table border=\"1\" class=\"dataframe\">\n",
       "  <thead>\n",
       "    <tr style=\"text-align: right;\">\n",
       "      <th></th>\n",
       "      <th>date_registr</th>\n",
       "      <th>uid</th>\n",
       "    </tr>\n",
       "  </thead>\n",
       "  <tbody>\n",
       "    <tr>\n",
       "      <th>0</th>\n",
       "      <td>1998-11-18 09:43:43</td>\n",
       "      <td>1</td>\n",
       "    </tr>\n",
       "    <tr>\n",
       "      <th>1</th>\n",
       "      <td>1999-07-22 22:38:09</td>\n",
       "      <td>2</td>\n",
       "    </tr>\n",
       "    <tr>\n",
       "      <th>2</th>\n",
       "      <td>2000-01-13 22:27:27</td>\n",
       "      <td>3</td>\n",
       "    </tr>\n",
       "    <tr>\n",
       "      <th>3</th>\n",
       "      <td>2000-05-28 14:19:01</td>\n",
       "      <td>4</td>\n",
       "    </tr>\n",
       "    <tr>\n",
       "      <th>4</th>\n",
       "      <td>2000-09-16 11:21:53</td>\n",
       "      <td>5</td>\n",
       "    </tr>\n",
       "  </tbody>\n",
       "</table>\n",
       "</div>"
      ],
      "text/plain": [
       "         date_registr  uid\n",
       "0 1998-11-18 09:43:43    1\n",
       "1 1999-07-22 22:38:09    2\n",
       "2 2000-01-13 22:27:27    3\n",
       "3 2000-05-28 14:19:01    4\n",
       "4 2000-09-16 11:21:53    5"
      ]
     },
     "execution_count": 43,
     "metadata": {},
     "output_type": "execute_result"
    }
   ],
   "source": [
    "df_reg.head()"
   ]
  },
  {
   "cell_type": "code",
   "execution_count": 112,
   "metadata": {},
   "outputs": [],
   "source": [
    "df_full = pd.merge(df_activ, df_reg, how = 'left')\n",
    "# объединяем два дата фрейма в один по колонке uid "
   ]
  },
  {
   "cell_type": "code",
   "execution_count": 113,
   "metadata": {},
   "outputs": [
    {
     "data": {
      "text/html": [
       "<div>\n",
       "<style scoped>\n",
       "    .dataframe tbody tr th:only-of-type {\n",
       "        vertical-align: middle;\n",
       "    }\n",
       "\n",
       "    .dataframe tbody tr th {\n",
       "        vertical-align: top;\n",
       "    }\n",
       "\n",
       "    .dataframe thead th {\n",
       "        text-align: right;\n",
       "    }\n",
       "</style>\n",
       "<table border=\"1\" class=\"dataframe\">\n",
       "  <thead>\n",
       "    <tr style=\"text-align: right;\">\n",
       "      <th></th>\n",
       "      <th>date_activity</th>\n",
       "      <th>uid</th>\n",
       "      <th>date_registr</th>\n",
       "    </tr>\n",
       "  </thead>\n",
       "  <tbody>\n",
       "    <tr>\n",
       "      <th>0</th>\n",
       "      <td>1998-11-18 09:43:43</td>\n",
       "      <td>1</td>\n",
       "      <td>1998-11-18 09:43:43</td>\n",
       "    </tr>\n",
       "    <tr>\n",
       "      <th>1</th>\n",
       "      <td>1999-07-22 22:38:09</td>\n",
       "      <td>2</td>\n",
       "      <td>1999-07-22 22:38:09</td>\n",
       "    </tr>\n",
       "    <tr>\n",
       "      <th>2</th>\n",
       "      <td>1999-07-25 16:46:46</td>\n",
       "      <td>2</td>\n",
       "      <td>1999-07-22 22:38:09</td>\n",
       "    </tr>\n",
       "    <tr>\n",
       "      <th>3</th>\n",
       "      <td>1999-07-31 03:50:15</td>\n",
       "      <td>2</td>\n",
       "      <td>1999-07-22 22:38:09</td>\n",
       "    </tr>\n",
       "    <tr>\n",
       "      <th>4</th>\n",
       "      <td>1999-08-05 17:49:39</td>\n",
       "      <td>2</td>\n",
       "      <td>1999-07-22 22:38:09</td>\n",
       "    </tr>\n",
       "  </tbody>\n",
       "</table>\n",
       "</div>"
      ],
      "text/plain": [
       "        date_activity  uid        date_registr\n",
       "0 1998-11-18 09:43:43    1 1998-11-18 09:43:43\n",
       "1 1999-07-22 22:38:09    2 1999-07-22 22:38:09\n",
       "2 1999-07-25 16:46:46    2 1999-07-22 22:38:09\n",
       "3 1999-07-31 03:50:15    2 1999-07-22 22:38:09\n",
       "4 1999-08-05 17:49:39    2 1999-07-22 22:38:09"
      ]
     },
     "execution_count": 113,
     "metadata": {},
     "output_type": "execute_result"
    }
   ],
   "source": [
    "df_full.head()"
   ]
  },
  {
   "cell_type": "code",
   "execution_count": 153,
   "metadata": {},
   "outputs": [
    {
     "data": {
      "text/plain": [
       "date_registr    1998-11-18 09:43:43\n",
       "date_activity   1998-11-18 09:43:43\n",
       "dtype: datetime64[ns]"
      ]
     },
     "execution_count": 153,
     "metadata": {},
     "output_type": "execute_result"
    }
   ],
   "source": [
    "df_full[['date_registr','date_activity']].min()\n",
    "# смотрим минимальное значение"
   ]
  },
  {
   "cell_type": "code",
   "execution_count": 154,
   "metadata": {},
   "outputs": [
    {
     "data": {
      "text/plain": [
       "date_registr    2019-09-25 06:32:23\n",
       "date_activity   2019-09-25 06:33:41\n",
       "dtype: datetime64[ns]"
      ]
     },
     "execution_count": 154,
     "metadata": {},
     "output_type": "execute_result"
    }
   ],
   "source": [
    "df_full[['date_registr','date_activity']].max()\n",
    "# смотрим максимальное значение"
   ]
  },
  {
   "cell_type": "markdown",
   "metadata": {},
   "source": [
    "## Подготовили данные для подсчета Retention. Обработку данных решил не включать в функцию, чтобы подавать ей уже подготовленную таблицу. (т.к. в реальности мы незнаем какие данные будем получать, и для начала их нужно предобработать)\n",
    "## Retention будем считать с помощью когортного анализа. У нас игра, возьмем период месяц (считаем, что если пользователю интересна данная игра, то он будет заходить минимум раз в месяц) и будем считать месчный Retention."
   ]
  },
  {
   "cell_type": "markdown",
   "metadata": {},
   "source": [
    "## Шаг 2 - подсчет Retention."
   ]
  },
  {
   "cell_type": "code",
   "execution_count": 141,
   "metadata": {},
   "outputs": [],
   "source": [
    "def calculate_cohort_retention(df_full):\n",
    "    # Присваиваем когорты на основе даты регистрации и активности для каждого пользователя\n",
    "    df_full['registr_month'] = df_full['date_registr'].dt.to_period('M')\n",
    "    df_full['activity_month'] = df_full['date_activity'].dt.to_period('M')\n",
    "    \n",
    "    # Рассчитываем номер периода в днях (месяц, делим на 30)\n",
    "    df_full['period_number_month'] = ((df_full.date_activity - df_full.date_registr).dt.days // 30)\n",
    "    \n",
    "    \n",
    "     # Агрегируем данные по когортам и рассчитанному номеру периода (в месяцах) и считаем уникальное количество пользователей \n",
    "    cohort_data = df_full.groupby(['registr_month', 'period_number_month']).agg(users=('uid', 'nunique')).reset_index()\n",
    "   \n",
    "    \n",
    "    # Создаем сводную таблицу для когортного анализа\n",
    "    cohort_pivot = cohort_data.pivot_table(index='registr_month', columns='period_number_month', values='users')\n",
    "    # Сохраняем размер когорты\n",
    "    cohort_size = cohort_pivot.iloc[:, 0]\n",
    "    \n",
    "    # Делаем ретеншен матрицу. Результат умножаем на 100, т.к. ретеншен измеряется в процентах\n",
    "    retention_matrix = (cohort_pivot.divide(cohort_size, axis = 0) * 100).round(1)\n",
    "    \n",
    "    return retention_matrix, cohort_pivot\n",
    "\n",
    "# Сохраняем в переменную \n",
    "cohort_retention, pivot_retention = calculate_cohort_retention(df_full)"
   ]
  },
  {
   "cell_type": "markdown",
   "metadata": {},
   "source": [
    "### Для удобства в самой функции мы сохранили в переменную таблицу с процентным Retention, а также таблицу с количеством пользователей, чтобы иметь возможность анализировать две таблицы."
   ]
  },
  {
   "cell_type": "code",
   "execution_count": 144,
   "metadata": {
    "scrolled": false
   },
   "outputs": [
    {
     "data": {
      "text/html": [
       "<div>\n",
       "<style scoped>\n",
       "    .dataframe tbody tr th:only-of-type {\n",
       "        vertical-align: middle;\n",
       "    }\n",
       "\n",
       "    .dataframe tbody tr th {\n",
       "        vertical-align: top;\n",
       "    }\n",
       "\n",
       "    .dataframe thead th {\n",
       "        text-align: right;\n",
       "    }\n",
       "</style>\n",
       "<table border=\"1\" class=\"dataframe\">\n",
       "  <thead>\n",
       "    <tr style=\"text-align: right;\">\n",
       "      <th>period_number_month</th>\n",
       "      <th>0</th>\n",
       "      <th>1</th>\n",
       "      <th>2</th>\n",
       "      <th>3</th>\n",
       "      <th>4</th>\n",
       "      <th>5</th>\n",
       "      <th>6</th>\n",
       "      <th>7</th>\n",
       "      <th>8</th>\n",
       "      <th>9</th>\n",
       "      <th>10</th>\n",
       "      <th>11</th>\n",
       "      <th>12</th>\n",
       "      <th>13</th>\n",
       "      <th>14</th>\n",
       "      <th>15</th>\n",
       "      <th>16</th>\n",
       "      <th>17</th>\n",
       "      <th>18</th>\n",
       "    </tr>\n",
       "    <tr>\n",
       "      <th>registr_month</th>\n",
       "      <th></th>\n",
       "      <th></th>\n",
       "      <th></th>\n",
       "      <th></th>\n",
       "      <th></th>\n",
       "      <th></th>\n",
       "      <th></th>\n",
       "      <th></th>\n",
       "      <th></th>\n",
       "      <th></th>\n",
       "      <th></th>\n",
       "      <th></th>\n",
       "      <th></th>\n",
       "      <th></th>\n",
       "      <th></th>\n",
       "      <th></th>\n",
       "      <th></th>\n",
       "      <th></th>\n",
       "      <th></th>\n",
       "    </tr>\n",
       "  </thead>\n",
       "  <tbody>\n",
       "    <tr>\n",
       "      <th>2017-01</th>\n",
       "      <td>5573.0</td>\n",
       "      <td>596.0</td>\n",
       "      <td>284.0</td>\n",
       "      <td>284.0</td>\n",
       "      <td>284.0</td>\n",
       "      <td>284.0</td>\n",
       "      <td>284.0</td>\n",
       "      <td>284.0</td>\n",
       "      <td>284.0</td>\n",
       "      <td>284.0</td>\n",
       "      <td>284.0</td>\n",
       "      <td>284.0</td>\n",
       "      <td>284.0</td>\n",
       "      <td>284.0</td>\n",
       "      <td>284.0</td>\n",
       "      <td>284.0</td>\n",
       "      <td>284.0</td>\n",
       "      <td>284.0</td>\n",
       "      <td>284.0</td>\n",
       "    </tr>\n",
       "    <tr>\n",
       "      <th>2017-02</th>\n",
       "      <td>5284.0</td>\n",
       "      <td>572.0</td>\n",
       "      <td>271.0</td>\n",
       "      <td>271.0</td>\n",
       "      <td>271.0</td>\n",
       "      <td>271.0</td>\n",
       "      <td>271.0</td>\n",
       "      <td>271.0</td>\n",
       "      <td>271.0</td>\n",
       "      <td>271.0</td>\n",
       "      <td>271.0</td>\n",
       "      <td>271.0</td>\n",
       "      <td>271.0</td>\n",
       "      <td>271.0</td>\n",
       "      <td>271.0</td>\n",
       "      <td>271.0</td>\n",
       "      <td>271.0</td>\n",
       "      <td>271.0</td>\n",
       "      <td>271.0</td>\n",
       "    </tr>\n",
       "    <tr>\n",
       "      <th>2017-03</th>\n",
       "      <td>6141.0</td>\n",
       "      <td>620.0</td>\n",
       "      <td>312.0</td>\n",
       "      <td>312.0</td>\n",
       "      <td>312.0</td>\n",
       "      <td>312.0</td>\n",
       "      <td>312.0</td>\n",
       "      <td>312.0</td>\n",
       "      <td>312.0</td>\n",
       "      <td>312.0</td>\n",
       "      <td>312.0</td>\n",
       "      <td>312.0</td>\n",
       "      <td>312.0</td>\n",
       "      <td>312.0</td>\n",
       "      <td>312.0</td>\n",
       "      <td>312.0</td>\n",
       "      <td>312.0</td>\n",
       "      <td>312.0</td>\n",
       "      <td>312.0</td>\n",
       "    </tr>\n",
       "    <tr>\n",
       "      <th>2017-04</th>\n",
       "      <td>6248.0</td>\n",
       "      <td>702.0</td>\n",
       "      <td>327.0</td>\n",
       "      <td>327.0</td>\n",
       "      <td>327.0</td>\n",
       "      <td>327.0</td>\n",
       "      <td>327.0</td>\n",
       "      <td>327.0</td>\n",
       "      <td>327.0</td>\n",
       "      <td>327.0</td>\n",
       "      <td>327.0</td>\n",
       "      <td>327.0</td>\n",
       "      <td>327.0</td>\n",
       "      <td>327.0</td>\n",
       "      <td>327.0</td>\n",
       "      <td>327.0</td>\n",
       "      <td>327.0</td>\n",
       "      <td>327.0</td>\n",
       "      <td>327.0</td>\n",
       "    </tr>\n",
       "    <tr>\n",
       "      <th>2017-05</th>\n",
       "      <td>6788.0</td>\n",
       "      <td>717.0</td>\n",
       "      <td>368.0</td>\n",
       "      <td>368.0</td>\n",
       "      <td>368.0</td>\n",
       "      <td>368.0</td>\n",
       "      <td>368.0</td>\n",
       "      <td>368.0</td>\n",
       "      <td>368.0</td>\n",
       "      <td>368.0</td>\n",
       "      <td>368.0</td>\n",
       "      <td>368.0</td>\n",
       "      <td>368.0</td>\n",
       "      <td>368.0</td>\n",
       "      <td>368.0</td>\n",
       "      <td>368.0</td>\n",
       "      <td>368.0</td>\n",
       "      <td>368.0</td>\n",
       "      <td>368.0</td>\n",
       "    </tr>\n",
       "    <tr>\n",
       "      <th>2017-06</th>\n",
       "      <td>6908.0</td>\n",
       "      <td>748.0</td>\n",
       "      <td>372.0</td>\n",
       "      <td>372.0</td>\n",
       "      <td>372.0</td>\n",
       "      <td>372.0</td>\n",
       "      <td>372.0</td>\n",
       "      <td>372.0</td>\n",
       "      <td>372.0</td>\n",
       "      <td>372.0</td>\n",
       "      <td>372.0</td>\n",
       "      <td>372.0</td>\n",
       "      <td>372.0</td>\n",
       "      <td>372.0</td>\n",
       "      <td>372.0</td>\n",
       "      <td>372.0</td>\n",
       "      <td>372.0</td>\n",
       "      <td>372.0</td>\n",
       "      <td>372.0</td>\n",
       "    </tr>\n",
       "    <tr>\n",
       "      <th>2017-07</th>\n",
       "      <td>7505.0</td>\n",
       "      <td>756.0</td>\n",
       "      <td>372.0</td>\n",
       "      <td>372.0</td>\n",
       "      <td>372.0</td>\n",
       "      <td>372.0</td>\n",
       "      <td>372.0</td>\n",
       "      <td>372.0</td>\n",
       "      <td>372.0</td>\n",
       "      <td>372.0</td>\n",
       "      <td>372.0</td>\n",
       "      <td>372.0</td>\n",
       "      <td>372.0</td>\n",
       "      <td>372.0</td>\n",
       "      <td>372.0</td>\n",
       "      <td>372.0</td>\n",
       "      <td>372.0</td>\n",
       "      <td>372.0</td>\n",
       "      <td>372.0</td>\n",
       "    </tr>\n",
       "    <tr>\n",
       "      <th>2017-08</th>\n",
       "      <td>7897.0</td>\n",
       "      <td>815.0</td>\n",
       "      <td>401.0</td>\n",
       "      <td>401.0</td>\n",
       "      <td>401.0</td>\n",
       "      <td>401.0</td>\n",
       "      <td>401.0</td>\n",
       "      <td>401.0</td>\n",
       "      <td>401.0</td>\n",
       "      <td>401.0</td>\n",
       "      <td>401.0</td>\n",
       "      <td>401.0</td>\n",
       "      <td>401.0</td>\n",
       "      <td>401.0</td>\n",
       "      <td>401.0</td>\n",
       "      <td>401.0</td>\n",
       "      <td>401.0</td>\n",
       "      <td>401.0</td>\n",
       "      <td>401.0</td>\n",
       "    </tr>\n",
       "    <tr>\n",
       "      <th>2017-09</th>\n",
       "      <td>8035.0</td>\n",
       "      <td>855.0</td>\n",
       "      <td>390.0</td>\n",
       "      <td>390.0</td>\n",
       "      <td>390.0</td>\n",
       "      <td>390.0</td>\n",
       "      <td>390.0</td>\n",
       "      <td>390.0</td>\n",
       "      <td>390.0</td>\n",
       "      <td>390.0</td>\n",
       "      <td>390.0</td>\n",
       "      <td>390.0</td>\n",
       "      <td>390.0</td>\n",
       "      <td>390.0</td>\n",
       "      <td>390.0</td>\n",
       "      <td>390.0</td>\n",
       "      <td>390.0</td>\n",
       "      <td>390.0</td>\n",
       "      <td>390.0</td>\n",
       "    </tr>\n",
       "    <tr>\n",
       "      <th>2017-10</th>\n",
       "      <td>8731.0</td>\n",
       "      <td>915.0</td>\n",
       "      <td>437.0</td>\n",
       "      <td>437.0</td>\n",
       "      <td>437.0</td>\n",
       "      <td>437.0</td>\n",
       "      <td>437.0</td>\n",
       "      <td>437.0</td>\n",
       "      <td>437.0</td>\n",
       "      <td>437.0</td>\n",
       "      <td>437.0</td>\n",
       "      <td>437.0</td>\n",
       "      <td>437.0</td>\n",
       "      <td>437.0</td>\n",
       "      <td>437.0</td>\n",
       "      <td>437.0</td>\n",
       "      <td>437.0</td>\n",
       "      <td>437.0</td>\n",
       "      <td>437.0</td>\n",
       "    </tr>\n",
       "    <tr>\n",
       "      <th>2017-11</th>\n",
       "      <td>8883.0</td>\n",
       "      <td>922.0</td>\n",
       "      <td>429.0</td>\n",
       "      <td>429.0</td>\n",
       "      <td>429.0</td>\n",
       "      <td>429.0</td>\n",
       "      <td>429.0</td>\n",
       "      <td>429.0</td>\n",
       "      <td>429.0</td>\n",
       "      <td>429.0</td>\n",
       "      <td>429.0</td>\n",
       "      <td>429.0</td>\n",
       "      <td>429.0</td>\n",
       "      <td>429.0</td>\n",
       "      <td>429.0</td>\n",
       "      <td>429.0</td>\n",
       "      <td>429.0</td>\n",
       "      <td>429.0</td>\n",
       "      <td>429.0</td>\n",
       "    </tr>\n",
       "    <tr>\n",
       "      <th>2017-12</th>\n",
       "      <td>9652.0</td>\n",
       "      <td>991.0</td>\n",
       "      <td>445.0</td>\n",
       "      <td>445.0</td>\n",
       "      <td>445.0</td>\n",
       "      <td>445.0</td>\n",
       "      <td>445.0</td>\n",
       "      <td>445.0</td>\n",
       "      <td>445.0</td>\n",
       "      <td>445.0</td>\n",
       "      <td>445.0</td>\n",
       "      <td>445.0</td>\n",
       "      <td>445.0</td>\n",
       "      <td>445.0</td>\n",
       "      <td>445.0</td>\n",
       "      <td>445.0</td>\n",
       "      <td>445.0</td>\n",
       "      <td>445.0</td>\n",
       "      <td>445.0</td>\n",
       "    </tr>\n",
       "  </tbody>\n",
       "</table>\n",
       "</div>"
      ],
      "text/plain": [
       "period_number_month      0      1      2      3      4      5      6      7   \\\n",
       "registr_month                                                                  \n",
       "2017-01              5573.0  596.0  284.0  284.0  284.0  284.0  284.0  284.0   \n",
       "2017-02              5284.0  572.0  271.0  271.0  271.0  271.0  271.0  271.0   \n",
       "2017-03              6141.0  620.0  312.0  312.0  312.0  312.0  312.0  312.0   \n",
       "2017-04              6248.0  702.0  327.0  327.0  327.0  327.0  327.0  327.0   \n",
       "2017-05              6788.0  717.0  368.0  368.0  368.0  368.0  368.0  368.0   \n",
       "2017-06              6908.0  748.0  372.0  372.0  372.0  372.0  372.0  372.0   \n",
       "2017-07              7505.0  756.0  372.0  372.0  372.0  372.0  372.0  372.0   \n",
       "2017-08              7897.0  815.0  401.0  401.0  401.0  401.0  401.0  401.0   \n",
       "2017-09              8035.0  855.0  390.0  390.0  390.0  390.0  390.0  390.0   \n",
       "2017-10              8731.0  915.0  437.0  437.0  437.0  437.0  437.0  437.0   \n",
       "2017-11              8883.0  922.0  429.0  429.0  429.0  429.0  429.0  429.0   \n",
       "2017-12              9652.0  991.0  445.0  445.0  445.0  445.0  445.0  445.0   \n",
       "\n",
       "period_number_month     8      9      10     11     12     13     14     15  \\\n",
       "registr_month                                                                 \n",
       "2017-01              284.0  284.0  284.0  284.0  284.0  284.0  284.0  284.0   \n",
       "2017-02              271.0  271.0  271.0  271.0  271.0  271.0  271.0  271.0   \n",
       "2017-03              312.0  312.0  312.0  312.0  312.0  312.0  312.0  312.0   \n",
       "2017-04              327.0  327.0  327.0  327.0  327.0  327.0  327.0  327.0   \n",
       "2017-05              368.0  368.0  368.0  368.0  368.0  368.0  368.0  368.0   \n",
       "2017-06              372.0  372.0  372.0  372.0  372.0  372.0  372.0  372.0   \n",
       "2017-07              372.0  372.0  372.0  372.0  372.0  372.0  372.0  372.0   \n",
       "2017-08              401.0  401.0  401.0  401.0  401.0  401.0  401.0  401.0   \n",
       "2017-09              390.0  390.0  390.0  390.0  390.0  390.0  390.0  390.0   \n",
       "2017-10              437.0  437.0  437.0  437.0  437.0  437.0  437.0  437.0   \n",
       "2017-11              429.0  429.0  429.0  429.0  429.0  429.0  429.0  429.0   \n",
       "2017-12              445.0  445.0  445.0  445.0  445.0  445.0  445.0  445.0   \n",
       "\n",
       "period_number_month     16     17     18  \n",
       "registr_month                             \n",
       "2017-01              284.0  284.0  284.0  \n",
       "2017-02              271.0  271.0  271.0  \n",
       "2017-03              312.0  312.0  312.0  \n",
       "2017-04              327.0  327.0  327.0  \n",
       "2017-05              368.0  368.0  368.0  \n",
       "2017-06              372.0  372.0  372.0  \n",
       "2017-07              372.0  372.0  372.0  \n",
       "2017-08              401.0  401.0  401.0  \n",
       "2017-09              390.0  390.0  390.0  \n",
       "2017-10              437.0  437.0  437.0  \n",
       "2017-11              429.0  429.0  429.0  \n",
       "2017-12              445.0  445.0  445.0  "
      ]
     },
     "execution_count": 144,
     "metadata": {},
     "output_type": "execute_result"
    }
   ],
   "source": [
    "pivot_retention.loc['2017', :18]\n",
    "\n",
    "# вызываем функцию и смотрим на когорты (количество пользователей) 2017г. С помощью фильтра loc можно выбрать любой период."
   ]
  },
  {
   "cell_type": "code",
   "execution_count": 145,
   "metadata": {
    "scrolled": true
   },
   "outputs": [
    {
     "data": {
      "text/html": [
       "<div>\n",
       "<style scoped>\n",
       "    .dataframe tbody tr th:only-of-type {\n",
       "        vertical-align: middle;\n",
       "    }\n",
       "\n",
       "    .dataframe tbody tr th {\n",
       "        vertical-align: top;\n",
       "    }\n",
       "\n",
       "    .dataframe thead th {\n",
       "        text-align: right;\n",
       "    }\n",
       "</style>\n",
       "<table border=\"1\" class=\"dataframe\">\n",
       "  <thead>\n",
       "    <tr style=\"text-align: right;\">\n",
       "      <th>period_number_month</th>\n",
       "      <th>0</th>\n",
       "      <th>1</th>\n",
       "      <th>2</th>\n",
       "      <th>3</th>\n",
       "      <th>4</th>\n",
       "      <th>5</th>\n",
       "      <th>6</th>\n",
       "      <th>7</th>\n",
       "      <th>8</th>\n",
       "      <th>9</th>\n",
       "      <th>10</th>\n",
       "      <th>11</th>\n",
       "      <th>12</th>\n",
       "      <th>13</th>\n",
       "      <th>14</th>\n",
       "      <th>15</th>\n",
       "      <th>16</th>\n",
       "      <th>17</th>\n",
       "      <th>18</th>\n",
       "    </tr>\n",
       "    <tr>\n",
       "      <th>registr_month</th>\n",
       "      <th></th>\n",
       "      <th></th>\n",
       "      <th></th>\n",
       "      <th></th>\n",
       "      <th></th>\n",
       "      <th></th>\n",
       "      <th></th>\n",
       "      <th></th>\n",
       "      <th></th>\n",
       "      <th></th>\n",
       "      <th></th>\n",
       "      <th></th>\n",
       "      <th></th>\n",
       "      <th></th>\n",
       "      <th></th>\n",
       "      <th></th>\n",
       "      <th></th>\n",
       "      <th></th>\n",
       "      <th></th>\n",
       "    </tr>\n",
       "  </thead>\n",
       "  <tbody>\n",
       "    <tr>\n",
       "      <th>2017-01</th>\n",
       "      <td>100.0</td>\n",
       "      <td>10.7</td>\n",
       "      <td>5.1</td>\n",
       "      <td>5.1</td>\n",
       "      <td>5.1</td>\n",
       "      <td>5.1</td>\n",
       "      <td>5.1</td>\n",
       "      <td>5.1</td>\n",
       "      <td>5.1</td>\n",
       "      <td>5.1</td>\n",
       "      <td>5.1</td>\n",
       "      <td>5.1</td>\n",
       "      <td>5.1</td>\n",
       "      <td>5.1</td>\n",
       "      <td>5.1</td>\n",
       "      <td>5.1</td>\n",
       "      <td>5.1</td>\n",
       "      <td>5.1</td>\n",
       "      <td>5.1</td>\n",
       "    </tr>\n",
       "    <tr>\n",
       "      <th>2017-02</th>\n",
       "      <td>100.0</td>\n",
       "      <td>10.8</td>\n",
       "      <td>5.1</td>\n",
       "      <td>5.1</td>\n",
       "      <td>5.1</td>\n",
       "      <td>5.1</td>\n",
       "      <td>5.1</td>\n",
       "      <td>5.1</td>\n",
       "      <td>5.1</td>\n",
       "      <td>5.1</td>\n",
       "      <td>5.1</td>\n",
       "      <td>5.1</td>\n",
       "      <td>5.1</td>\n",
       "      <td>5.1</td>\n",
       "      <td>5.1</td>\n",
       "      <td>5.1</td>\n",
       "      <td>5.1</td>\n",
       "      <td>5.1</td>\n",
       "      <td>5.1</td>\n",
       "    </tr>\n",
       "    <tr>\n",
       "      <th>2017-03</th>\n",
       "      <td>100.0</td>\n",
       "      <td>10.1</td>\n",
       "      <td>5.1</td>\n",
       "      <td>5.1</td>\n",
       "      <td>5.1</td>\n",
       "      <td>5.1</td>\n",
       "      <td>5.1</td>\n",
       "      <td>5.1</td>\n",
       "      <td>5.1</td>\n",
       "      <td>5.1</td>\n",
       "      <td>5.1</td>\n",
       "      <td>5.1</td>\n",
       "      <td>5.1</td>\n",
       "      <td>5.1</td>\n",
       "      <td>5.1</td>\n",
       "      <td>5.1</td>\n",
       "      <td>5.1</td>\n",
       "      <td>5.1</td>\n",
       "      <td>5.1</td>\n",
       "    </tr>\n",
       "    <tr>\n",
       "      <th>2017-04</th>\n",
       "      <td>100.0</td>\n",
       "      <td>11.2</td>\n",
       "      <td>5.2</td>\n",
       "      <td>5.2</td>\n",
       "      <td>5.2</td>\n",
       "      <td>5.2</td>\n",
       "      <td>5.2</td>\n",
       "      <td>5.2</td>\n",
       "      <td>5.2</td>\n",
       "      <td>5.2</td>\n",
       "      <td>5.2</td>\n",
       "      <td>5.2</td>\n",
       "      <td>5.2</td>\n",
       "      <td>5.2</td>\n",
       "      <td>5.2</td>\n",
       "      <td>5.2</td>\n",
       "      <td>5.2</td>\n",
       "      <td>5.2</td>\n",
       "      <td>5.2</td>\n",
       "    </tr>\n",
       "    <tr>\n",
       "      <th>2017-05</th>\n",
       "      <td>100.0</td>\n",
       "      <td>10.6</td>\n",
       "      <td>5.4</td>\n",
       "      <td>5.4</td>\n",
       "      <td>5.4</td>\n",
       "      <td>5.4</td>\n",
       "      <td>5.4</td>\n",
       "      <td>5.4</td>\n",
       "      <td>5.4</td>\n",
       "      <td>5.4</td>\n",
       "      <td>5.4</td>\n",
       "      <td>5.4</td>\n",
       "      <td>5.4</td>\n",
       "      <td>5.4</td>\n",
       "      <td>5.4</td>\n",
       "      <td>5.4</td>\n",
       "      <td>5.4</td>\n",
       "      <td>5.4</td>\n",
       "      <td>5.4</td>\n",
       "    </tr>\n",
       "    <tr>\n",
       "      <th>2017-06</th>\n",
       "      <td>100.0</td>\n",
       "      <td>10.8</td>\n",
       "      <td>5.4</td>\n",
       "      <td>5.4</td>\n",
       "      <td>5.4</td>\n",
       "      <td>5.4</td>\n",
       "      <td>5.4</td>\n",
       "      <td>5.4</td>\n",
       "      <td>5.4</td>\n",
       "      <td>5.4</td>\n",
       "      <td>5.4</td>\n",
       "      <td>5.4</td>\n",
       "      <td>5.4</td>\n",
       "      <td>5.4</td>\n",
       "      <td>5.4</td>\n",
       "      <td>5.4</td>\n",
       "      <td>5.4</td>\n",
       "      <td>5.4</td>\n",
       "      <td>5.4</td>\n",
       "    </tr>\n",
       "    <tr>\n",
       "      <th>2017-07</th>\n",
       "      <td>100.0</td>\n",
       "      <td>10.1</td>\n",
       "      <td>5.0</td>\n",
       "      <td>5.0</td>\n",
       "      <td>5.0</td>\n",
       "      <td>5.0</td>\n",
       "      <td>5.0</td>\n",
       "      <td>5.0</td>\n",
       "      <td>5.0</td>\n",
       "      <td>5.0</td>\n",
       "      <td>5.0</td>\n",
       "      <td>5.0</td>\n",
       "      <td>5.0</td>\n",
       "      <td>5.0</td>\n",
       "      <td>5.0</td>\n",
       "      <td>5.0</td>\n",
       "      <td>5.0</td>\n",
       "      <td>5.0</td>\n",
       "      <td>5.0</td>\n",
       "    </tr>\n",
       "    <tr>\n",
       "      <th>2017-08</th>\n",
       "      <td>100.0</td>\n",
       "      <td>10.3</td>\n",
       "      <td>5.1</td>\n",
       "      <td>5.1</td>\n",
       "      <td>5.1</td>\n",
       "      <td>5.1</td>\n",
       "      <td>5.1</td>\n",
       "      <td>5.1</td>\n",
       "      <td>5.1</td>\n",
       "      <td>5.1</td>\n",
       "      <td>5.1</td>\n",
       "      <td>5.1</td>\n",
       "      <td>5.1</td>\n",
       "      <td>5.1</td>\n",
       "      <td>5.1</td>\n",
       "      <td>5.1</td>\n",
       "      <td>5.1</td>\n",
       "      <td>5.1</td>\n",
       "      <td>5.1</td>\n",
       "    </tr>\n",
       "    <tr>\n",
       "      <th>2017-09</th>\n",
       "      <td>100.0</td>\n",
       "      <td>10.6</td>\n",
       "      <td>4.9</td>\n",
       "      <td>4.9</td>\n",
       "      <td>4.9</td>\n",
       "      <td>4.9</td>\n",
       "      <td>4.9</td>\n",
       "      <td>4.9</td>\n",
       "      <td>4.9</td>\n",
       "      <td>4.9</td>\n",
       "      <td>4.9</td>\n",
       "      <td>4.9</td>\n",
       "      <td>4.9</td>\n",
       "      <td>4.9</td>\n",
       "      <td>4.9</td>\n",
       "      <td>4.9</td>\n",
       "      <td>4.9</td>\n",
       "      <td>4.9</td>\n",
       "      <td>4.9</td>\n",
       "    </tr>\n",
       "    <tr>\n",
       "      <th>2017-10</th>\n",
       "      <td>100.0</td>\n",
       "      <td>10.5</td>\n",
       "      <td>5.0</td>\n",
       "      <td>5.0</td>\n",
       "      <td>5.0</td>\n",
       "      <td>5.0</td>\n",
       "      <td>5.0</td>\n",
       "      <td>5.0</td>\n",
       "      <td>5.0</td>\n",
       "      <td>5.0</td>\n",
       "      <td>5.0</td>\n",
       "      <td>5.0</td>\n",
       "      <td>5.0</td>\n",
       "      <td>5.0</td>\n",
       "      <td>5.0</td>\n",
       "      <td>5.0</td>\n",
       "      <td>5.0</td>\n",
       "      <td>5.0</td>\n",
       "      <td>5.0</td>\n",
       "    </tr>\n",
       "    <tr>\n",
       "      <th>2017-11</th>\n",
       "      <td>100.0</td>\n",
       "      <td>10.4</td>\n",
       "      <td>4.8</td>\n",
       "      <td>4.8</td>\n",
       "      <td>4.8</td>\n",
       "      <td>4.8</td>\n",
       "      <td>4.8</td>\n",
       "      <td>4.8</td>\n",
       "      <td>4.8</td>\n",
       "      <td>4.8</td>\n",
       "      <td>4.8</td>\n",
       "      <td>4.8</td>\n",
       "      <td>4.8</td>\n",
       "      <td>4.8</td>\n",
       "      <td>4.8</td>\n",
       "      <td>4.8</td>\n",
       "      <td>4.8</td>\n",
       "      <td>4.8</td>\n",
       "      <td>4.8</td>\n",
       "    </tr>\n",
       "    <tr>\n",
       "      <th>2017-12</th>\n",
       "      <td>100.0</td>\n",
       "      <td>10.3</td>\n",
       "      <td>4.6</td>\n",
       "      <td>4.6</td>\n",
       "      <td>4.6</td>\n",
       "      <td>4.6</td>\n",
       "      <td>4.6</td>\n",
       "      <td>4.6</td>\n",
       "      <td>4.6</td>\n",
       "      <td>4.6</td>\n",
       "      <td>4.6</td>\n",
       "      <td>4.6</td>\n",
       "      <td>4.6</td>\n",
       "      <td>4.6</td>\n",
       "      <td>4.6</td>\n",
       "      <td>4.6</td>\n",
       "      <td>4.6</td>\n",
       "      <td>4.6</td>\n",
       "      <td>4.6</td>\n",
       "    </tr>\n",
       "  </tbody>\n",
       "</table>\n",
       "</div>"
      ],
      "text/plain": [
       "period_number_month     0     1    2    3    4    5    6    7    8    9    10  \\\n",
       "registr_month                                                                   \n",
       "2017-01              100.0  10.7  5.1  5.1  5.1  5.1  5.1  5.1  5.1  5.1  5.1   \n",
       "2017-02              100.0  10.8  5.1  5.1  5.1  5.1  5.1  5.1  5.1  5.1  5.1   \n",
       "2017-03              100.0  10.1  5.1  5.1  5.1  5.1  5.1  5.1  5.1  5.1  5.1   \n",
       "2017-04              100.0  11.2  5.2  5.2  5.2  5.2  5.2  5.2  5.2  5.2  5.2   \n",
       "2017-05              100.0  10.6  5.4  5.4  5.4  5.4  5.4  5.4  5.4  5.4  5.4   \n",
       "2017-06              100.0  10.8  5.4  5.4  5.4  5.4  5.4  5.4  5.4  5.4  5.4   \n",
       "2017-07              100.0  10.1  5.0  5.0  5.0  5.0  5.0  5.0  5.0  5.0  5.0   \n",
       "2017-08              100.0  10.3  5.1  5.1  5.1  5.1  5.1  5.1  5.1  5.1  5.1   \n",
       "2017-09              100.0  10.6  4.9  4.9  4.9  4.9  4.9  4.9  4.9  4.9  4.9   \n",
       "2017-10              100.0  10.5  5.0  5.0  5.0  5.0  5.0  5.0  5.0  5.0  5.0   \n",
       "2017-11              100.0  10.4  4.8  4.8  4.8  4.8  4.8  4.8  4.8  4.8  4.8   \n",
       "2017-12              100.0  10.3  4.6  4.6  4.6  4.6  4.6  4.6  4.6  4.6  4.6   \n",
       "\n",
       "period_number_month   11   12   13   14   15   16   17   18  \n",
       "registr_month                                                \n",
       "2017-01              5.1  5.1  5.1  5.1  5.1  5.1  5.1  5.1  \n",
       "2017-02              5.1  5.1  5.1  5.1  5.1  5.1  5.1  5.1  \n",
       "2017-03              5.1  5.1  5.1  5.1  5.1  5.1  5.1  5.1  \n",
       "2017-04              5.2  5.2  5.2  5.2  5.2  5.2  5.2  5.2  \n",
       "2017-05              5.4  5.4  5.4  5.4  5.4  5.4  5.4  5.4  \n",
       "2017-06              5.4  5.4  5.4  5.4  5.4  5.4  5.4  5.4  \n",
       "2017-07              5.0  5.0  5.0  5.0  5.0  5.0  5.0  5.0  \n",
       "2017-08              5.1  5.1  5.1  5.1  5.1  5.1  5.1  5.1  \n",
       "2017-09              4.9  4.9  4.9  4.9  4.9  4.9  4.9  4.9  \n",
       "2017-10              5.0  5.0  5.0  5.0  5.0  5.0  5.0  5.0  \n",
       "2017-11              4.8  4.8  4.8  4.8  4.8  4.8  4.8  4.8  \n",
       "2017-12              4.6  4.6  4.6  4.6  4.6  4.6  4.6  4.6  "
      ]
     },
     "execution_count": 145,
     "metadata": {},
     "output_type": "execute_result"
    }
   ],
   "source": [
    "cohort_retention.loc['2017',:18]\n",
    "#смотрим на те же самые данные, но уже в процентном отношении. С помощью фильтра loc можно выбрать любой период."
   ]
  },
  {
   "cell_type": "markdown",
   "metadata": {},
   "source": [
    "### В дополнение создадим функцию для построения тепловой карты месячного Retention. "
   ]
  },
  {
   "cell_type": "code",
   "execution_count": 146,
   "metadata": {},
   "outputs": [],
   "source": [
    "# # Построение тепловой карты\n",
    "# в фильтре можно отобрать нужные данные. Также можно не включать первый столбец, чтобы была наглядная разница. \n",
    "# Мы взяли данные за последние 3 года и не включили нулевой период.\n",
    "\n",
    "def grafic_retention_matrix(cohort_retention):\n",
    "    plt.figure(figsize=(16, 11))\n",
    "    sns.heatmap(cohort_retention.iloc[190:, 1:25], annot= True, cmap='Reds', cbar=True , fmt= \".1f\" )\n",
    "    plt.title('Monthly Retention ', fontsize=16)\n",
    "    plt.xlabel('Months', fontsize=14)\n",
    "    plt.ylabel('Cohorts', fontsize = 14)\n",
    "    plt.show()\n",
    "    \n",
    "    \n"
   ]
  },
  {
   "cell_type": "code",
   "execution_count": 148,
   "metadata": {},
   "outputs": [
    {
     "data": {
      "image/png": "[encoded data removed]",
      "text/plain": [
       "<Figure size 1152x792 with 2 Axes>"
      ]
     },
     "metadata": {
      "needs_background": "light"
     },
     "output_type": "display_data"
    }
   ],
   "source": [
    "grafic_retention_matrix(cohort_retention)\n",
    "    "
   ]
  },
  {
   "cell_type": "code",
   "execution_count": null,
   "metadata": {},
   "outputs": [],
   "source": []
  },
  {
   "cell_type": "markdown",
   "metadata": {},
   "source": [
    "## Вывод. \n",
    "## Сделали когортный анализ и посчитали месячный Retention. Данные сохранены за очень долгий период, удобнее конечно пользоваться фильтрацией для наглядности. В целом видим, что месячный Retention всегда на уровне 5% начиная с 2010г. Основной поток пользователей пошел с 2015г, но уровень Retention оставался на одном и том же уровне почти всегда."
   ]
  },
  {
   "cell_type": "code",
   "execution_count": null,
   "metadata": {},
   "outputs": [],
   "source": []
  },
  {
   "cell_type": "markdown",
   "metadata": {},
   "source": [
    "# Задание 2.\n",
    "## Имеются результаты A/B теста, в котором двум группам пользователей предлагались различные наборы акционных предложений. Известно, что ARPU в тестовой группе выше на 5%, чем в контрольной. При этом в контрольной группе 1928 игроков из 202103 оказались платящими, а в тестовой – 1805 из 202667.\n",
    "\n",
    "## Какой набор предложений можно считать лучшим? Какие метрики стоит проанализировать для принятия правильного решения и как?"
   ]
  },
  {
   "cell_type": "code",
   "execution_count": 155,
   "metadata": {},
   "outputs": [],
   "source": [
    "df_ab = pd.read_csv('Проект_1_Задание_2.csv', sep=';')\n",
    "# считываем данные, сохраняем в переменную."
   ]
  },
  {
   "cell_type": "code",
   "execution_count": 156,
   "metadata": {},
   "outputs": [
    {
     "data": {
      "text/html": [
       "<div>\n",
       "<style scoped>\n",
       "    .dataframe tbody tr th:only-of-type {\n",
       "        vertical-align: middle;\n",
       "    }\n",
       "\n",
       "    .dataframe tbody tr th {\n",
       "        vertical-align: top;\n",
       "    }\n",
       "\n",
       "    .dataframe thead th {\n",
       "        text-align: right;\n",
       "    }\n",
       "</style>\n",
       "<table border=\"1\" class=\"dataframe\">\n",
       "  <thead>\n",
       "    <tr style=\"text-align: right;\">\n",
       "      <th></th>\n",
       "      <th>user_id</th>\n",
       "      <th>revenue</th>\n",
       "      <th>testgroup</th>\n",
       "    </tr>\n",
       "  </thead>\n",
       "  <tbody>\n",
       "    <tr>\n",
       "      <th>0</th>\n",
       "      <td>1</td>\n",
       "      <td>0</td>\n",
       "      <td>b</td>\n",
       "    </tr>\n",
       "    <tr>\n",
       "      <th>1</th>\n",
       "      <td>2</td>\n",
       "      <td>0</td>\n",
       "      <td>a</td>\n",
       "    </tr>\n",
       "    <tr>\n",
       "      <th>2</th>\n",
       "      <td>3</td>\n",
       "      <td>0</td>\n",
       "      <td>a</td>\n",
       "    </tr>\n",
       "    <tr>\n",
       "      <th>3</th>\n",
       "      <td>4</td>\n",
       "      <td>0</td>\n",
       "      <td>b</td>\n",
       "    </tr>\n",
       "    <tr>\n",
       "      <th>4</th>\n",
       "      <td>5</td>\n",
       "      <td>0</td>\n",
       "      <td>b</td>\n",
       "    </tr>\n",
       "  </tbody>\n",
       "</table>\n",
       "</div>"
      ],
      "text/plain": [
       "   user_id  revenue testgroup\n",
       "0        1        0         b\n",
       "1        2        0         a\n",
       "2        3        0         a\n",
       "3        4        0         b\n",
       "4        5        0         b"
      ]
     },
     "execution_count": 156,
     "metadata": {},
     "output_type": "execute_result"
    }
   ],
   "source": [
    "df_ab.head()"
   ]
  },
  {
   "cell_type": "code",
   "execution_count": 157,
   "metadata": {
    "scrolled": true
   },
   "outputs": [
    {
     "data": {
      "text/html": [
       "<div>\n",
       "<style scoped>\n",
       "    .dataframe tbody tr th:only-of-type {\n",
       "        vertical-align: middle;\n",
       "    }\n",
       "\n",
       "    .dataframe tbody tr th {\n",
       "        vertical-align: top;\n",
       "    }\n",
       "\n",
       "    .dataframe thead th {\n",
       "        text-align: right;\n",
       "    }\n",
       "</style>\n",
       "<table border=\"1\" class=\"dataframe\">\n",
       "  <thead>\n",
       "    <tr style=\"text-align: right;\">\n",
       "      <th></th>\n",
       "      <th>testgroup</th>\n",
       "      <th>user_id</th>\n",
       "    </tr>\n",
       "  </thead>\n",
       "  <tbody>\n",
       "    <tr>\n",
       "      <th>0</th>\n",
       "      <td>a</td>\n",
       "      <td>202103</td>\n",
       "    </tr>\n",
       "    <tr>\n",
       "      <th>1</th>\n",
       "      <td>b</td>\n",
       "      <td>202667</td>\n",
       "    </tr>\n",
       "  </tbody>\n",
       "</table>\n",
       "</div>"
      ],
      "text/plain": [
       "  testgroup  user_id\n",
       "0         a   202103\n",
       "1         b   202667"
      ]
     },
     "execution_count": 157,
     "metadata": {},
     "output_type": "execute_result"
    }
   ],
   "source": [
    "df_ab.groupby('testgroup')['user_id'].nunique().reset_index()\n",
    "# группируем данные по группе пользователей и смотрим на общее количество"
   ]
  },
  {
   "cell_type": "code",
   "execution_count": 158,
   "metadata": {},
   "outputs": [],
   "source": [
    "df_arpu = df_ab.groupby('testgroup').agg({'user_id':'nunique','revenue': 'mean'}).round(2).reset_index()\n",
    "# считаем метрику ARPU среднюю выручку на пользователя"
   ]
  },
  {
   "cell_type": "code",
   "execution_count": 159,
   "metadata": {},
   "outputs": [
    {
     "data": {
      "text/html": [
       "<div>\n",
       "<style scoped>\n",
       "    .dataframe tbody tr th:only-of-type {\n",
       "        vertical-align: middle;\n",
       "    }\n",
       "\n",
       "    .dataframe tbody tr th {\n",
       "        vertical-align: top;\n",
       "    }\n",
       "\n",
       "    .dataframe thead th {\n",
       "        text-align: right;\n",
       "    }\n",
       "</style>\n",
       "<table border=\"1\" class=\"dataframe\">\n",
       "  <thead>\n",
       "    <tr style=\"text-align: right;\">\n",
       "      <th></th>\n",
       "      <th>testgroup</th>\n",
       "      <th>user_id</th>\n",
       "      <th>revenue</th>\n",
       "    </tr>\n",
       "  </thead>\n",
       "  <tbody>\n",
       "    <tr>\n",
       "      <th>0</th>\n",
       "      <td>a</td>\n",
       "      <td>202103</td>\n",
       "      <td>25.41</td>\n",
       "    </tr>\n",
       "    <tr>\n",
       "      <th>1</th>\n",
       "      <td>b</td>\n",
       "      <td>202667</td>\n",
       "      <td>26.75</td>\n",
       "    </tr>\n",
       "  </tbody>\n",
       "</table>\n",
       "</div>"
      ],
      "text/plain": [
       "  testgroup  user_id  revenue\n",
       "0         a   202103    25.41\n",
       "1         b   202667    26.75"
      ]
     },
     "execution_count": 159,
     "metadata": {},
     "output_type": "execute_result"
    }
   ],
   "source": [
    "df_arpu"
   ]
  },
  {
   "cell_type": "code",
   "execution_count": 160,
   "metadata": {},
   "outputs": [],
   "source": [
    "df_arppu = df_ab.query('revenue > 0').groupby('testgroup').agg({'user_id':'nunique','revenue': 'mean'}).round(2).reset_index()\n",
    "# считаем метрику ARPPU - среднюю выручку на платящего пользователя"
   ]
  },
  {
   "cell_type": "code",
   "execution_count": 161,
   "metadata": {},
   "outputs": [
    {
     "data": {
      "text/html": [
       "<div>\n",
       "<style scoped>\n",
       "    .dataframe tbody tr th:only-of-type {\n",
       "        vertical-align: middle;\n",
       "    }\n",
       "\n",
       "    .dataframe tbody tr th {\n",
       "        vertical-align: top;\n",
       "    }\n",
       "\n",
       "    .dataframe thead th {\n",
       "        text-align: right;\n",
       "    }\n",
       "</style>\n",
       "<table border=\"1\" class=\"dataframe\">\n",
       "  <thead>\n",
       "    <tr style=\"text-align: right;\">\n",
       "      <th></th>\n",
       "      <th>testgroup</th>\n",
       "      <th>user_id</th>\n",
       "      <th>revenue</th>\n",
       "    </tr>\n",
       "  </thead>\n",
       "  <tbody>\n",
       "    <tr>\n",
       "      <th>0</th>\n",
       "      <td>a</td>\n",
       "      <td>1928</td>\n",
       "      <td>2664.00</td>\n",
       "    </tr>\n",
       "    <tr>\n",
       "      <th>1</th>\n",
       "      <td>b</td>\n",
       "      <td>1805</td>\n",
       "      <td>3003.66</td>\n",
       "    </tr>\n",
       "  </tbody>\n",
       "</table>\n",
       "</div>"
      ],
      "text/plain": [
       "  testgroup  user_id  revenue\n",
       "0         a     1928  2664.00\n",
       "1         b     1805  3003.66"
      ]
     },
     "execution_count": 161,
     "metadata": {},
     "output_type": "execute_result"
    }
   ],
   "source": [
    "df_arppu"
   ]
  },
  {
   "cell_type": "code",
   "execution_count": 162,
   "metadata": {},
   "outputs": [
    {
     "data": {
      "text/html": [
       "<div>\n",
       "<style scoped>\n",
       "    .dataframe tbody tr th:only-of-type {\n",
       "        vertical-align: middle;\n",
       "    }\n",
       "\n",
       "    .dataframe tbody tr th {\n",
       "        vertical-align: top;\n",
       "    }\n",
       "\n",
       "    .dataframe thead th {\n",
       "        text-align: right;\n",
       "    }\n",
       "</style>\n",
       "<table border=\"1\" class=\"dataframe\">\n",
       "  <thead>\n",
       "    <tr style=\"text-align: right;\">\n",
       "      <th></th>\n",
       "      <th>testgroup</th>\n",
       "      <th>user_id_x</th>\n",
       "      <th>revenue_x</th>\n",
       "      <th>user_id_y</th>\n",
       "      <th>revenue_y</th>\n",
       "    </tr>\n",
       "  </thead>\n",
       "  <tbody>\n",
       "    <tr>\n",
       "      <th>0</th>\n",
       "      <td>a</td>\n",
       "      <td>202103</td>\n",
       "      <td>25.41</td>\n",
       "      <td>1928</td>\n",
       "      <td>2664.00</td>\n",
       "    </tr>\n",
       "    <tr>\n",
       "      <th>1</th>\n",
       "      <td>b</td>\n",
       "      <td>202667</td>\n",
       "      <td>26.75</td>\n",
       "      <td>1805</td>\n",
       "      <td>3003.66</td>\n",
       "    </tr>\n",
       "  </tbody>\n",
       "</table>\n",
       "</div>"
      ],
      "text/plain": [
       "  testgroup  user_id_x  revenue_x  user_id_y  revenue_y\n",
       "0         a     202103      25.41       1928    2664.00\n",
       "1         b     202667      26.75       1805    3003.66"
      ]
     },
     "execution_count": 162,
     "metadata": {},
     "output_type": "execute_result"
    }
   ],
   "source": [
    "df_all =  pd.merge(df_arpu, df_arppu, on = \"testgroup\")\n",
    "df_all.head()"
   ]
  },
  {
   "cell_type": "code",
   "execution_count": 163,
   "metadata": {},
   "outputs": [],
   "source": [
    "df_all['CR'] = df_all.user_id_y / df_all.user_id_x\n",
    "# добавили колонку с конверсией"
   ]
  },
  {
   "cell_type": "code",
   "execution_count": 166,
   "metadata": {},
   "outputs": [],
   "source": [
    "df_all['revenue_sum'] = df_all['user_id_y'] * df_all['revenue_y']\n",
    "# добавили колонку с общей выручкой"
   ]
  },
  {
   "cell_type": "code",
   "execution_count": 167,
   "metadata": {},
   "outputs": [
    {
     "data": {
      "text/html": [
       "<div>\n",
       "<style scoped>\n",
       "    .dataframe tbody tr th:only-of-type {\n",
       "        vertical-align: middle;\n",
       "    }\n",
       "\n",
       "    .dataframe tbody tr th {\n",
       "        vertical-align: top;\n",
       "    }\n",
       "\n",
       "    .dataframe thead th {\n",
       "        text-align: right;\n",
       "    }\n",
       "</style>\n",
       "<table border=\"1\" class=\"dataframe\">\n",
       "  <thead>\n",
       "    <tr style=\"text-align: right;\">\n",
       "      <th></th>\n",
       "      <th>testgroup</th>\n",
       "      <th>user_id_x</th>\n",
       "      <th>revenue_x</th>\n",
       "      <th>user_id_y</th>\n",
       "      <th>revenue_y</th>\n",
       "      <th>CR</th>\n",
       "      <th>revenue_sum</th>\n",
       "    </tr>\n",
       "  </thead>\n",
       "  <tbody>\n",
       "    <tr>\n",
       "      <th>0</th>\n",
       "      <td>a</td>\n",
       "      <td>202103</td>\n",
       "      <td>25.41</td>\n",
       "      <td>1928</td>\n",
       "      <td>2664.00</td>\n",
       "      <td>0.009540</td>\n",
       "      <td>5136192.0</td>\n",
       "    </tr>\n",
       "    <tr>\n",
       "      <th>1</th>\n",
       "      <td>b</td>\n",
       "      <td>202667</td>\n",
       "      <td>26.75</td>\n",
       "      <td>1805</td>\n",
       "      <td>3003.66</td>\n",
       "      <td>0.008906</td>\n",
       "      <td>5421606.3</td>\n",
       "    </tr>\n",
       "  </tbody>\n",
       "</table>\n",
       "</div>"
      ],
      "text/plain": [
       "  testgroup  user_id_x  revenue_x  user_id_y  revenue_y        CR  revenue_sum\n",
       "0         a     202103      25.41       1928    2664.00  0.009540    5136192.0\n",
       "1         b     202667      26.75       1805    3003.66  0.008906    5421606.3"
      ]
     },
     "execution_count": 167,
     "metadata": {},
     "output_type": "execute_result"
    }
   ],
   "source": [
    "df_all\n",
    "# сделали общий дф с разными метриками, далее будем проверять их"
   ]
  },
  {
   "cell_type": "markdown",
   "metadata": {},
   "source": [
    "##  У нас имеются данные после результата А/В теста. Мы посмотрели на три метрики, ARPU(средняя выручка на пользователя), ARPPU(средняя выручка на платящего пользователя) и  Conversion Rate(конверсия в покупку).  Их далее и будем анализировать для принятия решения по А/B тесту.  Далее нам необходимо продолжить изучать данные, проверить их на нормальность, наличие выбросов (аномальных значений)  и после этого уже сравнивать с помощью статистических методов. "
   ]
  },
  {
   "cell_type": "code",
   "execution_count": 165,
   "metadata": {
    "scrolled": true
   },
   "outputs": [
    {
     "name": "stderr",
     "output_type": "stream",
     "text": [
      "/opt/tljh/user/lib/python3.7/site-packages/outdated/utils.py:18: OutdatedCacheFailedWarning: Failed to use cache while checking for outdated package.\n",
      "Set the environment variable OUTDATED_RAISE_EXCEPTION=1 for a full traceback.\n",
      "Set the environment variable OUTDATED_IGNORE=1 to disable these warnings.\n",
      "  **kwargs\n",
      "/opt/tljh/user/lib/python3.7/site-packages/outdated/utils.py:18: OutdatedPackageWarning: The package outdated is out of date. Your version is 0.2.1, the latest is 0.2.2.\n",
      "Set the environment variable OUTDATED_IGNORE=1 to disable these warnings.\n",
      "  **kwargs\n",
      "/opt/tljh/user/lib/python3.7/site-packages/outdated/utils.py:18: OutdatedPackageWarning: The package pingouin is out of date. Your version is 0.4.0, the latest is 0.5.5.\n",
      "Set the environment variable OUTDATED_IGNORE=1 to disable these warnings.\n",
      "  **kwargs\n"
     ]
    }
   ],
   "source": [
    "import scipy.stats as st\n",
    "import pingouin as pg"
   ]
  },
  {
   "cell_type": "markdown",
   "metadata": {},
   "source": [
    "## Начинаем анализ метрики ARPU."
   ]
  },
  {
   "cell_type": "code",
   "execution_count": 174,
   "metadata": {},
   "outputs": [],
   "source": [
    "control_arpu = df_ab.query(\"testgroup == 'a'\").revenue\n",
    "test_arpu = df_ab.query(\"testgroup == 'b' \").revenue\n",
    "# присваиваем каждой группе нужную переменную. Метрика ARPU"
   ]
  },
  {
   "cell_type": "code",
   "execution_count": 14,
   "metadata": {},
   "outputs": [
    {
     "data": {
      "text/plain": [
       "NormaltestResult(statistic=585152.7312728433, pvalue=0.0)"
      ]
     },
     "execution_count": 14,
     "metadata": {},
     "output_type": "execute_result"
    }
   ],
   "source": [
    "st.normaltest(control_arpu)\n",
    "# проверяем данные на нормальность с использованием теста Агостино-Пирсона, т.к. выборка большая, больше 5000.\n",
    "# Н0 - данные распределены нормально\n",
    "# Н1 - данные распределены не нормально"
   ]
  },
  {
   "cell_type": "code",
   "execution_count": 15,
   "metadata": {},
   "outputs": [
    {
     "data": {
      "text/plain": [
       "NormaltestResult(statistic=326622.39540856465, pvalue=0.0)"
      ]
     },
     "execution_count": 15,
     "metadata": {},
     "output_type": "execute_result"
    }
   ],
   "source": [
    "st.normaltest(test_arpu)\n",
    "# проверяем данные на нормальность с использованием теста Агостино-Пирсона, т.к. выборка большая, больше 5000.\n",
    "# Н0 - данные распределены нормально\n",
    "# Н1 - данные распределены не нормально"
   ]
  },
  {
   "cell_type": "code",
   "execution_count": 17,
   "metadata": {},
   "outputs": [],
   "source": [
    "# Видим по тестам, что данные не имеют нормальное распределение(pvalue < 0.05). Хотя для больших выборок это не критично, но на всякий случай решили првоерить.\n",
    "# Далее построим Бокс плот и гистограмму чтобы изучить данные на предмет аномальных значений или выбросов."
   ]
  },
  {
   "cell_type": "code",
   "execution_count": 16,
   "metadata": {},
   "outputs": [
    {
     "data": {
      "text/plain": [
       "<matplotlib.axes._subplots.AxesSubplot at 0x7f1d00baba90>"
      ]
     },
     "execution_count": 16,
     "metadata": {},
     "output_type": "execute_result"
    },
    {
     "data": {
      "image/png": "[encoded data removed]",
      "text/plain": [
       "<Figure size 1008x576 with 1 Axes>"
      ]
     },
     "metadata": {
      "needs_background": "light"
     },
     "output_type": "display_data"
    }
   ],
   "source": [
    "# Строим Box-plot. Видим, что в контрольной группе(А) вроде прослеживаются аномальные значения, есть выбросы в данных.\n",
    "plt.figure(figsize = (14,8))\n",
    "sns.boxplot(x=\"testgroup\", y=\"revenue\", data=df_ab)"
   ]
  },
  {
   "cell_type": "markdown",
   "metadata": {},
   "source": [
    "\n",
    "### Чтобы увидеть более детально аномальные значения, возьмем только платящих пользователей и смотрим на их выручку."
   ]
  },
  {
   "cell_type": "code",
   "execution_count": 17,
   "metadata": {},
   "outputs": [
    {
     "data": {
      "image/png": "[encoded data removed]",
      "text/plain": [
       "<Figure size 1008x576 with 1 Axes>"
      ]
     },
     "metadata": {
      "needs_background": "light"
     },
     "output_type": "display_data"
    }
   ],
   "source": [
    "# Строим еще один Бокс плот.\n",
    "plt.figure(figsize = (14,8))\n",
    "sns.boxplot(x=\"testgroup\", y=\"revenue\", data=df_ab.query(\" revenue > 0\"))\n",
    "plt.show()"
   ]
  },
  {
   "cell_type": "code",
   "execution_count": 18,
   "metadata": {},
   "outputs": [
    {
     "data": {
      "image/png": "[encoded data removed]",
      "text/plain": [
       "<Figure size 1008x576 with 1 Axes>"
      ]
     },
     "metadata": {
      "needs_background": "light"
     },
     "output_type": "display_data"
    }
   ],
   "source": [
    "# Для полной уверенности строим еще гистограмму также только по платящим пользователям.  \n",
    "plt.figure(figsize = (14,8))\n",
    "sns.histplot(x=\"revenue\", hue=\"testgroup\", data= df_ab.query(\" revenue > 0\"))\n",
    "plt.show()"
   ]
  },
  {
   "cell_type": "code",
   "execution_count": 19,
   "metadata": {
    "scrolled": true
   },
   "outputs": [
    {
     "data": {
      "text/html": [
       "<div>\n",
       "<style scoped>\n",
       "    .dataframe tbody tr th:only-of-type {\n",
       "        vertical-align: middle;\n",
       "    }\n",
       "\n",
       "    .dataframe tbody tr th {\n",
       "        vertical-align: top;\n",
       "    }\n",
       "\n",
       "    .dataframe thead th {\n",
       "        text-align: right;\n",
       "    }\n",
       "</style>\n",
       "<table border=\"1\" class=\"dataframe\">\n",
       "  <thead>\n",
       "    <tr style=\"text-align: right;\">\n",
       "      <th></th>\n",
       "      <th>testgroup</th>\n",
       "      <th>revenue</th>\n",
       "    </tr>\n",
       "  </thead>\n",
       "  <tbody>\n",
       "    <tr>\n",
       "      <th>0</th>\n",
       "      <td>a</td>\n",
       "      <td>37433</td>\n",
       "    </tr>\n",
       "    <tr>\n",
       "      <th>1</th>\n",
       "      <td>b</td>\n",
       "      <td>4000</td>\n",
       "    </tr>\n",
       "  </tbody>\n",
       "</table>\n",
       "</div>"
      ],
      "text/plain": [
       "  testgroup  revenue\n",
       "0         a    37433\n",
       "1         b     4000"
      ]
     },
     "execution_count": 19,
     "metadata": {},
     "output_type": "execute_result"
    }
   ],
   "source": [
    "df_ab.groupby('testgroup').agg({'revenue' : 'max'}).reset_index()\n",
    "# Увидели максимальные значения в обеих группах. "
   ]
  },
  {
   "cell_type": "code",
   "execution_count": 20,
   "metadata": {},
   "outputs": [
    {
     "data": {
      "text/html": [
       "<div>\n",
       "<style scoped>\n",
       "    .dataframe tbody tr th:only-of-type {\n",
       "        vertical-align: middle;\n",
       "    }\n",
       "\n",
       "    .dataframe tbody tr th {\n",
       "        vertical-align: top;\n",
       "    }\n",
       "\n",
       "    .dataframe thead th {\n",
       "        text-align: right;\n",
       "    }\n",
       "</style>\n",
       "<table border=\"1\" class=\"dataframe\">\n",
       "  <thead>\n",
       "    <tr style=\"text-align: right;\">\n",
       "      <th></th>\n",
       "      <th>user_id</th>\n",
       "      <th>revenue</th>\n",
       "      <th>testgroup</th>\n",
       "    </tr>\n",
       "  </thead>\n",
       "  <tbody>\n",
       "    <tr>\n",
       "      <th>416</th>\n",
       "      <td>417</td>\n",
       "      <td>37324</td>\n",
       "      <td>a</td>\n",
       "    </tr>\n",
       "    <tr>\n",
       "      <th>4428</th>\n",
       "      <td>4429</td>\n",
       "      <td>37304</td>\n",
       "      <td>a</td>\n",
       "    </tr>\n",
       "    <tr>\n",
       "      <th>5777</th>\n",
       "      <td>5778</td>\n",
       "      <td>37315</td>\n",
       "      <td>a</td>\n",
       "    </tr>\n",
       "    <tr>\n",
       "      <th>8065</th>\n",
       "      <td>8066</td>\n",
       "      <td>37307</td>\n",
       "      <td>a</td>\n",
       "    </tr>\n",
       "    <tr>\n",
       "      <th>8743</th>\n",
       "      <td>8744</td>\n",
       "      <td>37334</td>\n",
       "      <td>a</td>\n",
       "    </tr>\n",
       "    <tr>\n",
       "      <th>...</th>\n",
       "      <td>...</td>\n",
       "      <td>...</td>\n",
       "      <td>...</td>\n",
       "    </tr>\n",
       "    <tr>\n",
       "      <th>360696</th>\n",
       "      <td>360697</td>\n",
       "      <td>37347</td>\n",
       "      <td>a</td>\n",
       "    </tr>\n",
       "    <tr>\n",
       "      <th>378668</th>\n",
       "      <td>378669</td>\n",
       "      <td>37297</td>\n",
       "      <td>a</td>\n",
       "    </tr>\n",
       "    <tr>\n",
       "      <th>389341</th>\n",
       "      <td>389342</td>\n",
       "      <td>37298</td>\n",
       "      <td>a</td>\n",
       "    </tr>\n",
       "    <tr>\n",
       "      <th>394580</th>\n",
       "      <td>394581</td>\n",
       "      <td>37302</td>\n",
       "      <td>a</td>\n",
       "    </tr>\n",
       "    <tr>\n",
       "      <th>399294</th>\n",
       "      <td>399295</td>\n",
       "      <td>37321</td>\n",
       "      <td>a</td>\n",
       "    </tr>\n",
       "  </tbody>\n",
       "</table>\n",
       "<p>123 rows × 3 columns</p>\n",
       "</div>"
      ],
      "text/plain": [
       "        user_id  revenue testgroup\n",
       "416         417    37324         a\n",
       "4428       4429    37304         a\n",
       "5777       5778    37315         a\n",
       "8065       8066    37307         a\n",
       "8743       8744    37334         a\n",
       "...         ...      ...       ...\n",
       "360696   360697    37347         a\n",
       "378668   378669    37297         a\n",
       "389341   389342    37298         a\n",
       "394580   394581    37302         a\n",
       "399294   399295    37321         a\n",
       "\n",
       "[123 rows x 3 columns]"
      ]
     },
     "execution_count": 20,
     "metadata": {},
     "output_type": "execute_result"
    }
   ],
   "source": [
    "# Видим, что аномальные значения есть у 123 пользователей, все они принадлежат группе А, И все значения около 37300руб. \n",
    "df_ab.query(\" revenue > 5000 \")"
   ]
  },
  {
   "cell_type": "code",
   "execution_count": 21,
   "metadata": {},
   "outputs": [
    {
     "data": {
      "text/plain": [
       "4590252"
      ]
     },
     "execution_count": 21,
     "metadata": {},
     "output_type": "execute_result"
    }
   ],
   "source": [
    "df_ab.query(\" revenue > 5000 \").revenue.sum()"
   ]
  },
  {
   "cell_type": "code",
   "execution_count": 22,
   "metadata": {},
   "outputs": [
    {
     "data": {
      "text/plain": [
       "5136189"
      ]
     },
     "execution_count": 22,
     "metadata": {},
     "output_type": "execute_result"
    }
   ],
   "source": [
    "df_ab.query(\"testgroup == 'a' \").revenue.sum()"
   ]
  },
  {
   "cell_type": "code",
   "execution_count": 171,
   "metadata": {},
   "outputs": [
    {
     "data": {
      "text/plain": [
       "0.8937077665950377"
      ]
     },
     "execution_count": 171,
     "metadata": {},
     "output_type": "execute_result"
    }
   ],
   "source": [
    "df_ab.query(\" revenue > 5000 \").revenue.sum() / df_ab.query(\"testgroup == 'a' \").revenue.sum()"
   ]
  },
  {
   "cell_type": "markdown",
   "metadata": {},
   "source": [
    "## Из построенных графиков и таблиц вы видим, что в контрольной группе А есть аномальные значения. После более детального анализа данных, мы выяснили, что эти значения только у 123 пользователей , и они все приблизительно равны 37300р. Мы видим, что данные не разбросаны, а кучно сгруппированны около одной цифры, можем сделать предположение, что пользователи выбрали дорогие акционные предложения. В теории возможно что это и ошибочные данные, но мы также видим что сумма выручки от аномальных значений составляет 89% от всей выручки группы А, поэтому если мы удалим эти данные, то группа А заведомо проиграет по метрикам ARPU и ARPPU. Поэтому принимаем решение что данные мы не будем удалять, будем проводить статистический анализ с ними. "
   ]
  },
  {
   "cell_type": "markdown",
   "metadata": {},
   "source": [
    "## Приступаем к сравнению метрики ARPU"
   ]
  },
  {
   "cell_type": "code",
   "execution_count": 24,
   "metadata": {},
   "outputs": [
    {
     "data": {
      "image/png": "[encoded data removed]",
      "text/plain": [
       "<Figure size 1008x576 with 1 Axes>"
      ]
     },
     "metadata": {
      "needs_background": "light"
     },
     "output_type": "display_data"
    }
   ],
   "source": [
    "plt.figure(figsize = (14,8))\n",
    "sns.pointplot(x=\"testgroup\", #название группирующей переменной\n",
    "              y=\"revenue\", #название переменной, которую мы сравниваем\n",
    "              data=df_ab, #датафрейм с данными\n",
    "              capsize=0.1)\n",
    "plt.show()\n",
    "# для визуализации еще построим график - ящик с усами. Мы наглядно видим, что доверительный интервал в группе А больше(засчет аномальных значений) более широкий"
   ]
  },
  {
   "cell_type": "code",
   "execution_count": 25,
   "metadata": {},
   "outputs": [],
   "source": [
    "#перед проведение Т-теста проверим данные на равенство дисперсий.\n",
    "# Но - дисперсии не различаются\n",
    "# Н1 - дисперсии различаются"
   ]
  },
  {
   "cell_type": "code",
   "execution_count": 26,
   "metadata": {
    "tags": []
   },
   "outputs": [
    {
     "data": {
      "text/plain": [
       "LeveneResult(statistic=0.3896289474701388, pvalue=0.5324948591043842)"
      ]
     },
     "execution_count": 26,
     "metadata": {},
     "output_type": "execute_result"
    }
   ],
   "source": [
    "st.levene(control_arpu, test_arpu)\n",
    "# Видим, что pvalue > 0.05 , это означает что не отвергаем Но - дисперсии не различаются.\n",
    "# Это лзначает что будем проводить классический Т-тест "
   ]
  },
  {
   "cell_type": "code",
   "execution_count": 27,
   "metadata": {},
   "outputs": [],
   "source": [
    "# Делаем Т-тест.\n",
    "# Н0 - ARPU не различаются в группах А и В\n",
    "# Н1 - ARPU различаются в группах А и В"
   ]
  },
  {
   "cell_type": "code",
   "execution_count": 28,
   "metadata": {},
   "outputs": [
    {
     "data": {
      "text/plain": [
       "Ttest_indResult(statistic=-0.6242026493616787, pvalue=0.532494858971837)"
      ]
     },
     "execution_count": 28,
     "metadata": {},
     "output_type": "execute_result"
    }
   ],
   "source": [
    "st.ttest_ind(control_arpu, test_arpu)\n",
    "# Делаем Т-тест.\n",
    "# Видим, что pvalue > 0.05, это означает что Н0 не отвергается - ARPU статистически значимо НЕ различаются."
   ]
  },
  {
   "cell_type": "markdown",
   "metadata": {},
   "source": [
    "## По визуализации и самому Т тесту видим что нет статистически значимого различия, ARPU в группах не различаются.\n"
   ]
  },
  {
   "cell_type": "markdown",
   "metadata": {},
   "source": [
    "  \n",
    "# Далее приступаем к метрике ARPPU , ее будем сравнивать тоже  методом Т-теста."
   ]
  },
  {
   "cell_type": "code",
   "execution_count": 176,
   "metadata": {},
   "outputs": [],
   "source": [
    "control_arppu = df_ab.query(\"testgroup == 'a' and revenue > 0 \").revenue\n",
    "test_arppu = df_ab.query(\"testgroup == 'b' and revenue > 0 \").revenue\n",
    "# присваиваем каждой группе нужную переменную. Метрика ARPPU"
   ]
  },
  {
   "cell_type": "code",
   "execution_count": 177,
   "metadata": {},
   "outputs": [
    {
     "data": {
      "text/plain": [
       "311.0"
      ]
     },
     "execution_count": 177,
     "metadata": {},
     "output_type": "execute_result"
    }
   ],
   "source": [
    "control_arppu.median()\n",
    "# медианное значение ARPPU в контрольной группе"
   ]
  },
  {
   "cell_type": "code",
   "execution_count": 179,
   "metadata": {},
   "outputs": [
    {
     "data": {
      "text/plain": [
       "3022.0"
      ]
     },
     "execution_count": 179,
     "metadata": {},
     "output_type": "execute_result"
    }
   ],
   "source": [
    "test_arppu.median()\n",
    "# медианное значение ARPPU в тестовой группе"
   ]
  },
  {
   "cell_type": "code",
   "execution_count": 32,
   "metadata": {},
   "outputs": [
    {
     "data": {
      "text/plain": [
       "ShapiroResult(statistic=0.2667924761772156, pvalue=0.0)"
      ]
     },
     "execution_count": 32,
     "metadata": {},
     "output_type": "execute_result"
    }
   ],
   "source": [
    "st.shapiro(control_arppu)\n",
    "# проверяем данные на нормальность с использованием теста Шапиро-Уилка, т.к. выборка до 5000.\n",
    "# Н0 - данные распределены нормально\n",
    "# Н1 - данные распределены НЕ нормально"
   ]
  },
  {
   "cell_type": "code",
   "execution_count": 33,
   "metadata": {},
   "outputs": [
    {
     "data": {
      "text/plain": [
       "ShapiroResult(statistic=0.9583123922348022, pvalue=2.491345674771425e-22)"
      ]
     },
     "execution_count": 33,
     "metadata": {},
     "output_type": "execute_result"
    }
   ],
   "source": [
    "st.shapiro(test_arppu)\n",
    "# проверяем данные на нормальность с использованием теста Шапиро-Уилка, т.к. выборка до 5000.\n",
    "# Н0 - данные распределены нормально\n",
    "# Н1 - данные распределены НЕ нормально"
   ]
  },
  {
   "cell_type": "markdown",
   "metadata": {},
   "source": [
    "## Видим, что данные распределены не неормально в обоих группах. "
   ]
  },
  {
   "cell_type": "code",
   "execution_count": 34,
   "metadata": {},
   "outputs": [],
   "source": [
    "#перед проведением Т-теста проверим данные на равенство дисперсий.\n",
    "# Н0 - дисперсии не различаются\n",
    "# Н1 - дисперсии различаются"
   ]
  },
  {
   "cell_type": "code",
   "execution_count": 35,
   "metadata": {},
   "outputs": [
    {
     "data": {
      "text/plain": [
       "LeveneResult(statistic=80.85567421779912, pvalue=3.779689868667878e-19)"
      ]
     },
     "execution_count": 35,
     "metadata": {},
     "output_type": "execute_result"
    }
   ],
   "source": [
    "st.levene(control_arppu, test_arppu)\n",
    "# Видим, что pvalue < 0.05 , это означает что принимаем Н1 - дисперсии различаются.\n",
    "# Это лзначает что будем проводить  Т-тест Уэлча с поправкой не неравные дисперсии."
   ]
  },
  {
   "cell_type": "code",
   "execution_count": 36,
   "metadata": {},
   "outputs": [
    {
     "data": {
      "image/png": "[encoded data removed]",
      "text/plain": [
       "<Figure size 1008x576 with 1 Axes>"
      ]
     },
     "metadata": {
      "needs_background": "light"
     },
     "output_type": "display_data"
    }
   ],
   "source": [
    "plt.figure(figsize = (14,8))\n",
    "sns.pointplot(x=\"testgroup\", #название группирующей переменной\n",
    "              y=\"revenue\", #название переменной, которую мы сравниваем\n",
    "              data=df_ab.query(\"0 < revenue \"), #датафрейм с данными\n",
    "              capsize=0.1)\n",
    "plt.show()\n",
    "# для визуализации еще построим график - ящик с усами. Мы наглядно видим, что доверительный интервал в группе А больше(засчет аномальных значений) более широкий"
   ]
  },
  {
   "cell_type": "code",
   "execution_count": 37,
   "metadata": {},
   "outputs": [
    {
     "data": {
      "text/plain": [
       "Ttest_indResult(statistic=-1.6446302664300838, pvalue=0.10020780398916015)"
      ]
     },
     "execution_count": 37,
     "metadata": {},
     "output_type": "execute_result"
    }
   ],
   "source": [
    "st.ttest_ind(control_arppu, test_arppu, equal_var = False)"
   ]
  },
  {
   "cell_type": "markdown",
   "metadata": {},
   "source": [
    "### По визуализации и самому Т тесту видим что нет статистически значимых различий. ARPPU в группах не различается. Далее приступаем к анализу метрики CR. \n",
    "### Конверсия, это категориальная переменная (пользователь является платящим или нет), и здесь мы применим метод Хи квадрат. Сделаем таблицу сопряженности и проведем статистический тест. "
   ]
  },
  {
   "cell_type": "code",
   "execution_count": 172,
   "metadata": {},
   "outputs": [
    {
     "data": {
      "text/html": [
       "<div>\n",
       "<style scoped>\n",
       "    .dataframe tbody tr th:only-of-type {\n",
       "        vertical-align: middle;\n",
       "    }\n",
       "\n",
       "    .dataframe tbody tr th {\n",
       "        vertical-align: top;\n",
       "    }\n",
       "\n",
       "    .dataframe thead th {\n",
       "        text-align: right;\n",
       "    }\n",
       "</style>\n",
       "<table border=\"1\" class=\"dataframe\">\n",
       "  <thead>\n",
       "    <tr style=\"text-align: right;\">\n",
       "      <th></th>\n",
       "      <th>testgroup</th>\n",
       "      <th>user_id_x</th>\n",
       "      <th>revenue_x</th>\n",
       "      <th>user_id_y</th>\n",
       "      <th>revenue_y</th>\n",
       "      <th>CR</th>\n",
       "      <th>revenue_sum</th>\n",
       "    </tr>\n",
       "  </thead>\n",
       "  <tbody>\n",
       "    <tr>\n",
       "      <th>0</th>\n",
       "      <td>a</td>\n",
       "      <td>202103</td>\n",
       "      <td>25.41</td>\n",
       "      <td>1928</td>\n",
       "      <td>2664.00</td>\n",
       "      <td>0.009540</td>\n",
       "      <td>5136192.0</td>\n",
       "    </tr>\n",
       "    <tr>\n",
       "      <th>1</th>\n",
       "      <td>b</td>\n",
       "      <td>202667</td>\n",
       "      <td>26.75</td>\n",
       "      <td>1805</td>\n",
       "      <td>3003.66</td>\n",
       "      <td>0.008906</td>\n",
       "      <td>5421606.3</td>\n",
       "    </tr>\n",
       "  </tbody>\n",
       "</table>\n",
       "</div>"
      ],
      "text/plain": [
       "  testgroup  user_id_x  revenue_x  user_id_y  revenue_y        CR  revenue_sum\n",
       "0         a     202103      25.41       1928    2664.00  0.009540    5136192.0\n",
       "1         b     202667      26.75       1805    3003.66  0.008906    5421606.3"
      ]
     },
     "execution_count": 172,
     "metadata": {},
     "output_type": "execute_result"
    }
   ],
   "source": [
    "df_all\n",
    "# выводим ранее созданный дф"
   ]
  },
  {
   "cell_type": "code",
   "execution_count": 39,
   "metadata": {},
   "outputs": [],
   "source": [
    "df_all[\"cr_now\"] = df_all[\"user_id_x\"] - df_all[\"user_id_y\"]\n",
    "# создаем колонку с количеством не платящих пользователей"
   ]
  },
  {
   "cell_type": "code",
   "execution_count": 40,
   "metadata": {},
   "outputs": [],
   "source": [
    "df_cr = df_all[[\"cr_now\",\"user_id_y\"]]\n",
    "# создаем отдельную таблицу сопряженности (платящий пользователь или нет)"
   ]
  },
  {
   "cell_type": "code",
   "execution_count": 41,
   "metadata": {},
   "outputs": [],
   "source": [
    "df_cr = df_cr.rename(columns = {\"user_id_y\" : \"cr_yes\"})\n",
    "# переименовываем колонку для наглядности"
   ]
  },
  {
   "cell_type": "code",
   "execution_count": 42,
   "metadata": {},
   "outputs": [
    {
     "data": {
      "text/html": [
       "<div>\n",
       "<style scoped>\n",
       "    .dataframe tbody tr th:only-of-type {\n",
       "        vertical-align: middle;\n",
       "    }\n",
       "\n",
       "    .dataframe tbody tr th {\n",
       "        vertical-align: top;\n",
       "    }\n",
       "\n",
       "    .dataframe thead th {\n",
       "        text-align: right;\n",
       "    }\n",
       "</style>\n",
       "<table border=\"1\" class=\"dataframe\">\n",
       "  <thead>\n",
       "    <tr style=\"text-align: right;\">\n",
       "      <th></th>\n",
       "      <th>cr_now</th>\n",
       "      <th>cr_yes</th>\n",
       "    </tr>\n",
       "  </thead>\n",
       "  <tbody>\n",
       "    <tr>\n",
       "      <th>0</th>\n",
       "      <td>200175</td>\n",
       "      <td>1928</td>\n",
       "    </tr>\n",
       "    <tr>\n",
       "      <th>1</th>\n",
       "      <td>200862</td>\n",
       "      <td>1805</td>\n",
       "    </tr>\n",
       "  </tbody>\n",
       "</table>\n",
       "</div>"
      ],
      "text/plain": [
       "   cr_now  cr_yes\n",
       "0  200175    1928\n",
       "1  200862    1805"
      ]
     },
     "execution_count": 42,
     "metadata": {},
     "output_type": "execute_result"
    }
   ],
   "source": [
    "df_cr"
   ]
  },
  {
   "cell_type": "code",
   "execution_count": 43,
   "metadata": {},
   "outputs": [],
   "source": [
    "# H0 -  CR в контрольной и тестовой группах не различаются\n",
    "# H1 -  CR в контрольной и тестовой группах различаются"
   ]
  },
  {
   "cell_type": "code",
   "execution_count": 44,
   "metadata": {},
   "outputs": [
    {
     "data": {
      "text/plain": [
       "(4.374729521260405,\n",
       " 0.03647561892312613,\n",
       " 1,\n",
       " array([[200239.10075104,   1863.89924896],\n",
       "        [200797.89924896,   1869.10075104]]))"
      ]
     },
     "execution_count": 44,
     "metadata": {},
     "output_type": "execute_result"
    }
   ],
   "source": [
    "st.chi2_contingency(df_cr)"
   ]
  },
  {
   "cell_type": "markdown",
   "metadata": {},
   "source": [
    "### По результатам теста Хи квадрат,видим, что pvalue - 0.0364, следовательно мы принимаем альтернативную(Н1) гипотезу - CR в группах статистически различаются. И CR в контрольной группе А выше, чем в тестовой. "
   ]
  },
  {
   "cell_type": "markdown",
   "metadata": {},
   "source": [
    "# Вывод.\n",
    "## Мы провели анализ А/В теста, сравнили результаты по трем метрикам - ARPU, ARPPU, Conversion Rate. Сложно однозначно ответить на вопрос, какие акционные предложения лучше:  \n",
    "## - T-test не выявил статистической разницы ARPU и ARPPU между двумя группами. \n",
    "## - Анализ конверсии показал, что пользователи контрольной группы А чаще совершали покупку.\n",
    "## - Необходимо еще отметить, что пользователи в группах совершенно по разному совершали покупки. Медианное значение ARPPU у тестовой группы в 10 раз выше чем у контрольной. В контрольной группе покупки или дешевые (300р) или очень дорогие (37300р). В тестовой группе наоборот же, разброс не такой большой, диапазон покупок около 2500р - 3000р. \n",
    "\n",
    "## На мой взгляд, все таки лучше выбрать акционные предложения тестовой группы B. Несмотря на то, что конверсия в покупку немного меньше, зато доход с пользователей больше, общая выручка больше,  сами покупки более равномерные. \n",
    "\n",
    "### В реальности можно еще изучить аномальные выбросы подробнее. Если это реальные покупки, а не ошибочные данные, то тогда все оставляем как есть. А если понимаем, что это не покупки, а просто ошибочные данные, то в этом случае аномальные значения можно удалить и провести стат анализ еще раз.\n",
    "\n"
   ]
  },
  {
   "cell_type": "markdown",
   "metadata": {},
   "source": [
    "# Задание 3."
   ]
  },
  {
   "cell_type": "markdown",
   "metadata": {},
   "source": [
    "## В игре Plants & Gardens каждый месяц проводятся тематические события, ограниченные по времени. В них игроки могут получить уникальные предметы для сада и персонажей, дополнительные монеты или бонусы. Для получения награды требуется пройти ряд уровней за определенное время. С помощью каких метрик можно оценить результаты последнего прошедшего события?\n",
    "\n",
    "## Предположим, в другом событии мы усложнили механику событий так, что при каждой неудачной попытке выполнения уровня игрок будет откатываться на несколько уровней назад. Изменится ли набор метрик оценки результата? Если да, то как?"
   ]
  },
  {
   "cell_type": "markdown",
   "metadata": {},
   "source": [
    "## Метрики (вопрос 1) \n",
    "### Основные :\n",
    "### 1. DAU/MAU -  Какое количество уникальных пользователей участвовало в событии. \n",
    "### 2. Retention - Возврат пользователей в игру во время события. \n",
    "### 3. ARPU - Средняя выручка с пользователя. \n",
    "### 4. ARPPU - Средняя выручка с платящего пользователя. \n",
    "### 4. CPA - Стоимость привлечения пользователя. \n",
    "### 5. LTV - Средняя выручка с пользователя, за всю его жизнь, активность. \n",
    "\n",
    "### Второстепенные :\n",
    "### 1. Какое количество пользователей прошли все уровни и получили награду.\n",
    "### 2. Какой процент пользователей ( от всех, кто принимал участие) прошел все уровни и получил награду.\n",
    "### 3. Какое количество пользователей не дошли до награды.\n",
    "### 4. Какой процент пользователей ( от всех, кто принимал участие) не дошел до награды.\n",
    "### 5. Среднее время прохождения всех уровней до награды.\n",
    "### 6. Какой уровень оказался самым долгим по времени прохождения.\n",
    "### 7. Какой уровень оказался самым быстрым по времени прохождения.\n",
    "### 8. Какой уровень оказался самым сложным ( на каком уровне чаще всего спотыкались игроки).\n",
    "### 9. Какой уровень оказался самым легким (проходили с минимальным количеством ошибок).\n",
    "\n",
    "\n",
    "#### Также можно еще смотреть на некоторые перечисленные метрики в сравнении с прошлыми тематическими событиями в игре, чтобы понимать как прошло данное событие в сравнении с предыдущими. На некоторые метрики можно смотреть совместно на одном графике. \n",
    "\n"
   ]
  },
  {
   "cell_type": "markdown",
   "metadata": {},
   "source": [
    "## Метрики (вопрос 2). \n",
    "### Подойдут все метрики с первого варианта(только уже с учетом откатов), а дополнительно касаемого второго варианта: \n",
    "### 1. Churn rate - процент пользователей, покинушвих событие после одного или нескольких откатов.\n",
    "### 2. Корреляция между количеством откатов и вероятностью ухода.\n",
    "### 3. Среднее количество откатов на пользователя.\n",
    "### 4. Минимальное и максимальное количество откатов.\n",
    "\n",
    "\n"
   ]
  },
  {
   "cell_type": "code",
   "execution_count": null,
   "metadata": {},
   "outputs": [],
   "source": []
  },
  {
   "cell_type": "code",
   "execution_count": null,
   "metadata": {},
   "outputs": [],
   "source": []
  }
 ],
 "metadata": {
  "kernelspec": {
   "display_name": "Python 3",
   "language": "python",
   "name": "python3"
  },
  "language_info": {
   "codemirror_mode": {
    "name": "ipython",
    "version": 3
   },
   "file_extension": ".py",
   "mimetype": "text/x-python",
   "name": "python",
   "nbconvert_exporter": "python",
   "pygments_lexer": "ipython3",
   "version": "3.7.3"
  }
 },
 "nbformat": 4,
 "nbformat_minor": 4
}
